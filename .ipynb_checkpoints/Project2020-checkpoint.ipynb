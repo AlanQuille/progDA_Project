{
 "cells": [
  {
   "cell_type": "markdown",
   "metadata": {},
   "source": [
    "# Programming for Data Analysis Project 2020"
   ]
  },
  {
   "cell_type": "markdown",
   "metadata": {},
   "source": [
    "## Table of contents\n",
    "1. [Introduction](#introduction)\n",
    "\n",
    "2. [Factors](#factors)\n",
    "\n",
    "    2.1 [Income](#income)\n",
    "    \n",
    "    2.2 [Cognitive Ability](#cognitive_ability)\n",
    "    \n",
    "    2.3 [Big Five Personality Traits](#big_five)\n",
    "    \n",
    "3. [Simulation](#simulation)\n",
    "\n",
    "    3.1. [Correlation matrix](#correlation)\n",
    "    \n",
    "    3.2. [Covariance Matrix](#covariance)\n",
    "    \n",
    "    3.3. [Generation of Dataset](#dataset)\n",
    "    \n",
    "    3.4. [Classification of Income](#class)\n",
    "    \n",
    "    3.5. [Details on dataset](#details)\n",
    "    \n",
    "    3.6. [Visualisation](#visualisation)\n",
    "    \n",
    "4. [References](#references)"
   ]
  },
  {
   "cell_type": "markdown",
   "metadata": {},
   "source": [
    "## 1 Introduction <a name=\"introduction\"></a>\n",
    "The purpose of this project is to simulate a dataset which represents income in the United States and the various factors that are associated with same. In this instance, the factors are cognitive ability and personality (Big Five traits Openness, Conscientiousness, Extraversion, Agreeableness and Neuroticism).\n",
    "\n",
    "The study of the distribution of Income and the factors that correlate with it are of interest because of questions concerning income equality and how much of success is due to so called \"fair\" factors such as personality and cognitive ability and \"unfair\" factors such as parental wealth and social status.\n",
    "\n",
    "Each of the factors and their distribution are described as follows:"
   ]
  },
  {
   "cell_type": "markdown",
   "metadata": {},
   "source": [
    "## 2 Factors <a name=\"factors\"></a>\n",
    "\n",
    "## 2.1 Income <a name=\"income\"></a>\n",
    "The factor that is of primary concern in this simulation is total lifetime income in the United States (called **I** for convenience here). The aim of the project is to simulate a distribution of total lifetime income given the mean and standard deviation of total lifetime income given in the paper \"Who Does Well in Life? Conscientious Adults Excel in Both Objective and Subjective Success\" [1](#ref1).\n",
    "\n",
    "Generally, income (including lifetime income) is best described using the lognormal distribution as the mode tends to be less than the median which is less than the mean (reflecting income equality). However, due to the earnings were capped at a taxable maximum in the paper, the data is not sufficiently skewed to justify the transformation and can be modelled as a normal distribution.\n",
    "\n",
    "The mean and standard deviation are 980,000 and 738,000 respectively."
   ]
  },
  {
   "cell_type": "code",
   "execution_count": 1,
   "metadata": {},
   "outputs": [],
   "source": [
    "m_i = 980000\n",
    "stdev_i = 738000"
   ]
  },
  {
   "cell_type": "markdown",
   "metadata": {},
   "source": [
    "## 2.2 Cognitive ability <a name=\"cognitive_ability\"></a>\n",
    "Cognitive ability as measured by the paper includes memory, vocabulary and numeracy. It correlates positively with income. These measures (in particular vocabulary) correlate very highly with IQ [2](#ref2). IQ is measured initially on an ordinal scale with percentiles but is approximated on the interval scale as a normal distribution or bell curve across a whole population [3](#ref3). Cognitive ability correlates positively with income.\n",
    "\n",
    "In the paper, the mean and standard deviation are 0 and 1. It is normally distributed like IQ (although IQ usually has mean 100 and standard deviation 15)."
   ]
  },
  {
   "cell_type": "code",
   "execution_count": 2,
   "metadata": {},
   "outputs": [],
   "source": [
    "m_ca = 0\n",
    "stdev_ca = 1"
   ]
  },
  {
   "cell_type": "markdown",
   "metadata": {},
   "source": [
    "## 2.3 Big Five Personality Traits <a name=\"big_five\"></a>\n",
    "The Big Five Personaltiy traits are an attempt by psychologists to encapsulate and quantify several personality traits [4](#ref4). They traits are similar to IQ in that they are measured on the ordinal scale by psychologists but approximated on the interval scale as a normal distribution across a whole population [5](#ref5). The traits are measured on a scale where 4 means an individual scores extremely high in a trait, 1 means they score extremely low in a trait and 2 means the individual scores neither high nor low in a trait.\n",
    "The Big Five traits are Openness, Conscientiousness, Extraversion, Agreeableness and Emotional Stability/Neuroticism (the facets and domains of the Big Five are not considered here). The mean and standard deviations are drawn from the paper.\n",
    "### 2.3.1 Openness <a name=\"openness\"></a>\n",
    "Openness measures the level of interest in art, intellectual pursuits and creativity in an individual. It also measures how unconventional and fantasy-prone they are. It correlates positively with income. The mean is 1.95 and the standard deviation is 0.55. \n",
    "### 2.3.2 Conscientiousness <a name=\"conscientiousness\"></a>\n",
    "Conscientiousness measures how industrious, organised and self-disciplined an individual is. It also measures how cautious and dutiful they are. It correlates positively with income. The mean is 2.56 and the standard deviation is 0.48.\n",
    "### 2.3.3 Extraversion <a name=\"extraversion\"></a>\n",
    "Extraversion measures how talkative, assertive and sensation-seeking an individual is. It also measures thier level of activity and positive emotions. It correlates negatively with income. The mean is 2.2 and 0.55.\n",
    "### 2.3.4 Agreeableness <a name=\"agreeableness\"></a>\n",
    "Extraversion measures how modest, altruistic and honest an individual is. It also measures how compassionate  and trusting they are. It correlates negatively with income. The mean is 2.53 and the standard deviation is 0.47.\n",
    "### 2.3.5 Emotional Stability/Neuroticism <a name=\"emotional stability\"></a>\n",
    "Emotional stability is the reverse of Neuroticism. Neuroticism measures how anxious, fearful and depressed an individual is. It also measures how self-conscious and impulsive they are. It correlates negatively with Income, whereas its reverse Emotional Stability correlates positively with income. The mean (of Emotional Stability) is 2.71 and the standard deviation is 0.61."
   ]
  },
  {
   "cell_type": "code",
   "execution_count": 3,
   "metadata": {},
   "outputs": [],
   "source": [
    "# means of big five traits\n",
    "m_o = 1.95\n",
    "m_c = 2.56\n",
    "m_e = 2.2\n",
    "m_a = 2.53\n",
    "m_es = 2.71\n",
    "# standard deviationns of big five traits\n",
    "stdev_o = 0.55\n",
    "stdev_c = 0.48\n",
    "stdev_e = 0.55\n",
    "stdev_a = 0.47\n",
    "stdev_es = 0.61"
   ]
  },
  {
   "cell_type": "markdown",
   "metadata": {},
   "source": [
    "# 3 Simulation <a name=\"simulation\"></a>\n",
    "## 3.1 Correlation Matrix <a name=\"correlation\"></a>\n",
    "Since all the factors correlate with income (and most the factors also correlate with each other to some degree), the multivariate normal distribution is used to generate the dataset [6](#ref6). The correlation matrix used in the multivariate normal distribution is entered using the correlations from the paper (the pretty_print_matrix function is taken from Stack Overflow [7](#ref7))"
   ]
  },
  {
   "cell_type": "code",
   "execution_count": 4,
   "metadata": {},
   "outputs": [
    {
     "name": "stdout",
     "output_type": "stream",
     "text": [
      "1   \t0.67\t0.61 \t0.63 \t0.23\t0.27\t0.08 \n",
      "0.67\t1   \t0.68 \t0.51 \t0.2 \t0.27\t0.1  \n",
      "0.61\t0.68\t1    \t0.8  \t0.25\t0.01\t-0.04\n",
      "0.63\t0.51\t0.8  \t1    \t0.07\t0.02\t-0.14\n",
      "0.23\t0.2 \t0.25 \t0.07 \t1   \t0.16\t0.16 \n",
      "0.27\t0.27\t0.01 \t0.02 \t0.16\t1   \t0.34 \n",
      "0.08\t0.1 \t-0.04\t-0.14\t0.16\t0.34\t1    \n"
     ]
    }
   ],
   "source": [
    "# this function prints out a matrix in \n",
    "# a presentable fashion\n",
    "# taken from Stack Overflow\n",
    "def pretty_print_matrix(matrix):\n",
    "    s = [[str(e) for e in row] for row in matrix]\n",
    "    lens = [max(map(len, col)) for col in zip(*s)]\n",
    "    fmt = '\\t'.join('{{:{}}}'.format(x) for x in lens)\n",
    "    table = [fmt.format(*row) for row in s]\n",
    "    print('\\n'.join(table))\n",
    "\n",
    "# rows of correlation matrix\n",
    "p1= [1, 0.67, 0.61, 0.63, 0.23, 0.27, 0.08]\n",
    "p2 = [0.67, 1, 0.68, 0.51, 0.2, 0.27, 0.1]\n",
    "p3 = [0.61, 0.68, 1, 0.8, 0.25, 0.01, -0.04]\n",
    "p4 = [0.63, 0.51, 0.8, 1, 0.07, 0.02, -0.14]\n",
    "p5 = [0.23, 0.20, 0.25, 0.07, 1, 0.16, 0.16]\n",
    "p6 = [0.27, 0.27, 0.01, 0.02, 0.16, 1, 0.34]\n",
    "p7 = [0.08, 0.10, -0.04, -0.14, 0.16, 0.34, 1]\n",
    "\n",
    "# correlation matrix\n",
    "corr = [p1, p2, p3, p4, p5, p6, p7]\n",
    "pretty_print_matrix(corr)"
   ]
  },
  {
   "cell_type": "markdown",
   "metadata": {},
   "source": [
    "## 3.2 Generation of dataset <a name=\"covariance\"></a>\n",
    "This correlation matrix is used to generate a standardised version of the dataset[8](#ref8) using the multivariate_normal function. Standardised means that the mean of each column is 0 and the standard deviation is 1. \n",
    "\n",
    "The code to do this is as follows:"
   ]
  },
  {
   "cell_type": "code",
   "execution_count": 11,
   "metadata": {
    "scrolled": false
   },
   "outputs": [],
   "source": [
    "# import numpy for numpy arrays\n",
    "import numpy as np\n",
    "# set precision of numpy\n",
    "\n",
    "# mean and standard deviation lists\n",
    "mean_list = [m_c, m_o, m_e, m_a, m_es, m_ca, m_i]\n",
    "std_list = [stdev_c, stdev_o, stdev_e, stdev_a, stdev_es, stdev_ca, stdev_i]\n",
    "\n",
    "# numpy arrays of mean and \n",
    "# standard deviation lists\n",
    "m = np.array(mean_list)\n",
    "s = np.array(std_list)\n",
    "\n",
    "# numpy array of correlation matrix\n",
    "R = np.array(corr)\n",
    "\n",
    "# list of 0's for means\n",
    "mean_zeros = np.array([0,0,0,1,1,1,1])\n",
    "\n",
    "# standardised version of dataset, means are all 0 and\n",
    "# correlation matrix is used as covariance matrix.\n",
    "standard_dataset = np.random.multivariate_normal(mean_zeros, corr, 200)"
   ]
  },
  {
   "cell_type": "markdown",
   "metadata": {},
   "source": [
    "## 3.3 Reverse standardisation <a name=\"dataset\"></a>\n",
    "The dataset is adjusted so that the means and standard deviations reflect the assigned means and standard deviations given above instead of 0 and 1. This is done by taking the standardisation formula standard_datset = (dataset - mean)/(standard_deviation) and reversing it to get the dataset variable, like so: dataset = standard_dataset*standard_deviation + mean\n",
    "\n",
    "This is an alternate way of generating the dataset using multivariate_normal. A more regular method is to use the covariance matrix [9](#ref9) to generate the final dataset instead. This method is more complex and error-prone, so this alternate method is used instead.\n",
    "\n",
    "First, a pandas dataframe of the standard dataset is created:"
   ]
  },
  {
   "cell_type": "code",
   "execution_count": 9,
   "metadata": {
    "scrolled": true
   },
   "outputs": [],
   "source": [
    "import pandas as pd\n",
    "\n",
    "# make sure each element in dataset is of two digit precision\n",
    "pd.options.display.float_format = \"{:,.2f}\".format\n",
    "# dataframe df of dataset\n",
    "df = pd.DataFrame(standard_dataset, columns =['Conscientiousness', 'Openness', 'Extraversion', \\\n",
    "                                     'Agreeableness', 'Emotional Stability', \\\n",
    "                                     'Cognitive Ability', 'Income']);"
   ]
  },
  {
   "cell_type": "code",
   "execution_count": null,
   "metadata": {},
   "outputs": [],
   "source": [
    "The reverse standardisation is given as follows:"
   ]
  },
  {
   "cell_type": "code",
   "execution_count": 18,
   "metadata": {
    "scrolled": false
   },
   "outputs": [
    {
     "name": "stdout",
     "output_type": "stream",
     "text": [
      "Conscientiousness     -0.00\n",
      "Openness               0.00\n",
      "Extraversion           0.00\n",
      "Agreeableness         -0.00\n",
      "Emotional Stability    0.00\n",
      "Cognitive Ability      0.00\n",
      "Income                -0.00\n",
      "dtype: float64\n",
      "Conscientiousness     0.00\n",
      "Openness              0.00\n",
      "Extraversion          0.00\n",
      "Agreeableness         0.00\n",
      "Emotional Stability   0.00\n",
      "Cognitive Ability     0.00\n",
      "Income                0.00\n",
      "dtype: float64\n"
     ]
    }
   ],
   "source": [
    "# create new non-standard dataset\n",
    "df_new = df*s + m\n",
    "\n",
    "# check by using the standardisation formula\n",
    "# to get original dataset\n",
    "df_old = (df_new - m)/s\n",
    "\n",
    "# get mean and standard deviation of df_old\n",
    "# should be 0.\n",
    "print((df_old - df).mean())\n",
    "print((df_old - df).std())"
   ]
  },
  {
   "cell_type": "markdown",
   "metadata": {},
   "source": [
    "This confirms that the reverse standardisation was successful.\n",
    "\n",
    "The correlation matrix of the final, unstandardised version of the dataset is compared with the correlation matrix of the original, standardised dataset as follows:"
   ]
  },
  {
   "cell_type": "code",
   "execution_count": 31,
   "metadata": {
    "scrolled": true
   },
   "outputs": [
    {
     "data": {
      "text/html": [
       "<div>\n",
       "<style scoped>\n",
       "    .dataframe tbody tr th:only-of-type {\n",
       "        vertical-align: middle;\n",
       "    }\n",
       "\n",
       "    .dataframe tbody tr th {\n",
       "        vertical-align: top;\n",
       "    }\n",
       "\n",
       "    .dataframe thead th {\n",
       "        text-align: right;\n",
       "    }\n",
       "</style>\n",
       "<table border=\"1\" class=\"dataframe\">\n",
       "  <thead>\n",
       "    <tr style=\"text-align: right;\">\n",
       "      <th></th>\n",
       "      <th>Conscientiousness</th>\n",
       "      <th>Openness</th>\n",
       "      <th>Extraversion</th>\n",
       "      <th>Agreeableness</th>\n",
       "      <th>Emotional Stability</th>\n",
       "      <th>Cognitive Ability</th>\n",
       "      <th>Income</th>\n",
       "    </tr>\n",
       "  </thead>\n",
       "  <tbody>\n",
       "    <tr>\n",
       "      <th>Conscientiousness</th>\n",
       "      <td>0.00</td>\n",
       "      <td>-0.00</td>\n",
       "      <td>-0.00</td>\n",
       "      <td>0.00</td>\n",
       "      <td>-0.00</td>\n",
       "      <td>0.00</td>\n",
       "      <td>0.00</td>\n",
       "    </tr>\n",
       "    <tr>\n",
       "      <th>Openness</th>\n",
       "      <td>-0.00</td>\n",
       "      <td>0.00</td>\n",
       "      <td>-0.00</td>\n",
       "      <td>0.00</td>\n",
       "      <td>-0.00</td>\n",
       "      <td>-0.00</td>\n",
       "      <td>0.00</td>\n",
       "    </tr>\n",
       "    <tr>\n",
       "      <th>Extraversion</th>\n",
       "      <td>-0.00</td>\n",
       "      <td>-0.00</td>\n",
       "      <td>0.00</td>\n",
       "      <td>-0.00</td>\n",
       "      <td>0.00</td>\n",
       "      <td>-0.00</td>\n",
       "      <td>-0.00</td>\n",
       "    </tr>\n",
       "    <tr>\n",
       "      <th>Agreeableness</th>\n",
       "      <td>0.00</td>\n",
       "      <td>0.00</td>\n",
       "      <td>-0.00</td>\n",
       "      <td>0.00</td>\n",
       "      <td>-0.00</td>\n",
       "      <td>0.00</td>\n",
       "      <td>0.00</td>\n",
       "    </tr>\n",
       "    <tr>\n",
       "      <th>Emotional Stability</th>\n",
       "      <td>-0.00</td>\n",
       "      <td>-0.00</td>\n",
       "      <td>0.00</td>\n",
       "      <td>-0.00</td>\n",
       "      <td>0.00</td>\n",
       "      <td>-0.00</td>\n",
       "      <td>0.00</td>\n",
       "    </tr>\n",
       "    <tr>\n",
       "      <th>Cognitive Ability</th>\n",
       "      <td>0.00</td>\n",
       "      <td>-0.00</td>\n",
       "      <td>-0.00</td>\n",
       "      <td>0.00</td>\n",
       "      <td>-0.00</td>\n",
       "      <td>0.00</td>\n",
       "      <td>0.00</td>\n",
       "    </tr>\n",
       "    <tr>\n",
       "      <th>Income</th>\n",
       "      <td>0.00</td>\n",
       "      <td>0.00</td>\n",
       "      <td>-0.00</td>\n",
       "      <td>0.00</td>\n",
       "      <td>0.00</td>\n",
       "      <td>0.00</td>\n",
       "      <td>0.00</td>\n",
       "    </tr>\n",
       "  </tbody>\n",
       "</table>\n",
       "</div>"
      ],
      "text/plain": [
       "                     Conscientiousness  Openness  Extraversion  Agreeableness  \\\n",
       "Conscientiousness                 0.00     -0.00         -0.00           0.00   \n",
       "Openness                         -0.00      0.00         -0.00           0.00   \n",
       "Extraversion                     -0.00     -0.00          0.00          -0.00   \n",
       "Agreeableness                     0.00      0.00         -0.00           0.00   \n",
       "Emotional Stability              -0.00     -0.00          0.00          -0.00   \n",
       "Cognitive Ability                 0.00     -0.00         -0.00           0.00   \n",
       "Income                            0.00      0.00         -0.00           0.00   \n",
       "\n",
       "                     Emotional Stability  Cognitive Ability  Income  \n",
       "Conscientiousness                  -0.00               0.00    0.00  \n",
       "Openness                           -0.00              -0.00    0.00  \n",
       "Extraversion                        0.00              -0.00   -0.00  \n",
       "Agreeableness                      -0.00               0.00    0.00  \n",
       "Emotional Stability                 0.00              -0.00    0.00  \n",
       "Cognitive Ability                  -0.00               0.00    0.00  \n",
       "Income                              0.00               0.00    0.00  "
      ]
     },
     "execution_count": 31,
     "metadata": {},
     "output_type": "execute_result"
    }
   ],
   "source": [
    "df_old.corr() - df_new.corr()"
   ]
  },
  {
   "cell_type": "markdown",
   "metadata": {},
   "source": [
    "All the entries are 0. This confirms that the correlations remain intact after the reverse standardisation has taken place.\n",
    "\n",
    "The final, non-standardised version of the dataset has been generated. df_new is assigned to df:"
   ]
  },
  {
   "cell_type": "code",
   "execution_count": 32,
   "metadata": {},
   "outputs": [],
   "source": [
    "df = df_new"
   ]
  },
  {
   "cell_type": "markdown",
   "metadata": {},
   "source": [
    "## 3.4 Classification <a name=\"class\"></a>\n",
    "To classify each income range, a very simple classification scheme is used whereby incomes in 98th percentile are categorised as \"H\" for High, incomes above the 84th percentile and below and equalling the 98th percentile are categorised as \"HM\" for High Middle, incomes above the 50th percentile and below and equalling the 84th percentile are categories as \"LM\", incomes above the 16th percentile and below and equalling the 50th percentile are categorised as \"HL\" for High Low, incomes between the 2nd percentile and below and equalling the 16th percentile are categorised as \"LM\" for Low Middle and incomes at or below the 2th percentile are categorised as \"L\" for low. \n",
    "\n",
    "This classification scheme is done as follows:"
   ]
  },
  {
   "cell_type": "code",
   "execution_count": 20,
   "metadata": {},
   "outputs": [],
   "source": [
    "# Different classes of income\n",
    "# A small increment of 0.000000001 is made\n",
    "# to ensure the income brackets conform\n",
    "# to the scheme outlined above\n",
    "df.loc[df['Income'] > m_i + 2*stdev_i, 'Income Class'] = 'H' \n",
    "df.loc[df['Income'].between(m_i + stdev_i +0.000000001, m_i + 2*stdev_i, inclusive=True), 'Income Class'] = 'HM' \n",
    "df.loc[df['Income'].between(m_i +0.000000001, m_i + stdev_i, inclusive=True), 'Income Class'] = 'LM' \n",
    "df.loc[df['Income'].between(m_i - stdev_i +0.000000001 , m_i, inclusive=True), 'Income Class'] = 'HL' \n",
    "df.loc[df['Income'].between(m_i - 2*stdev_i +0.000000001 ,m_i-stdev_i, inclusive=True), 'Income Class'] = 'ML'\n",
    "df.loc[df['Income'] <= m_i - 2*stdev_i, 'Income Class'] = 'L'"
   ]
  },
  {
   "cell_type": "markdown",
   "metadata": {},
   "source": [
    "## 3.5 Details on dataset <a name=\"details\"></a>"
   ]
  },
  {
   "cell_type": "markdown",
   "metadata": {},
   "source": [
    "The means of the columns of df and standard deviations of the columns of df are given as follows:"
   ]
  },
  {
   "cell_type": "code",
   "execution_count": 21,
   "metadata": {
    "scrolled": false
   },
   "outputs": [
    {
     "name": "stdout",
     "output_type": "stream",
     "text": [
      "The means are:\n",
      "Conscientiousness             2.52\n",
      "Openness                      1.94\n",
      "Extraversion                  2.22\n",
      "Agreeableness                 3.03\n",
      "Emotional Stability           3.28\n",
      "Cognitive Ability             0.88\n",
      "Income                1,748,076.30\n",
      "dtype: float64\n",
      "\n",
      "The standard deviations are:\n",
      "Conscientiousness           0.51\n",
      "Openness                    0.54\n",
      "Extraversion                0.58\n",
      "Agreeableness               0.50\n",
      "Emotional Stability         0.59\n",
      "Cognitive Ability           1.05\n",
      "Income                732,570.64\n",
      "dtype: float64\n"
     ]
    }
   ],
   "source": [
    "print(\"The means are:\\n{}\".format(df.mean()))\n",
    "print(\"\\nThe standard deviations are:\\n{}\".format(df.std()))"
   ]
  },
  {
   "cell_type": "markdown",
   "metadata": {},
   "source": [
    "The first 5 elements are given as follows:"
   ]
  },
  {
   "cell_type": "code",
   "execution_count": 22,
   "metadata": {
    "scrolled": false
   },
   "outputs": [
    {
     "data": {
      "text/html": [
       "<div>\n",
       "<style scoped>\n",
       "    .dataframe tbody tr th:only-of-type {\n",
       "        vertical-align: middle;\n",
       "    }\n",
       "\n",
       "    .dataframe tbody tr th {\n",
       "        vertical-align: top;\n",
       "    }\n",
       "\n",
       "    .dataframe thead th {\n",
       "        text-align: right;\n",
       "    }\n",
       "</style>\n",
       "<table border=\"1\" class=\"dataframe\">\n",
       "  <thead>\n",
       "    <tr style=\"text-align: right;\">\n",
       "      <th></th>\n",
       "      <th>Conscientiousness</th>\n",
       "      <th>Openness</th>\n",
       "      <th>Extraversion</th>\n",
       "      <th>Agreeableness</th>\n",
       "      <th>Emotional Stability</th>\n",
       "      <th>Cognitive Ability</th>\n",
       "      <th>Income</th>\n",
       "      <th>Income Class</th>\n",
       "    </tr>\n",
       "  </thead>\n",
       "  <tbody>\n",
       "    <tr>\n",
       "      <th>0</th>\n",
       "      <td>2.29</td>\n",
       "      <td>1.98</td>\n",
       "      <td>2.05</td>\n",
       "      <td>2.86</td>\n",
       "      <td>2.82</td>\n",
       "      <td>1.37</td>\n",
       "      <td>2,322,927.67</td>\n",
       "      <td>HM</td>\n",
       "    </tr>\n",
       "    <tr>\n",
       "      <th>1</th>\n",
       "      <td>1.21</td>\n",
       "      <td>1.10</td>\n",
       "      <td>1.37</td>\n",
       "      <td>2.02</td>\n",
       "      <td>3.13</td>\n",
       "      <td>-0.58</td>\n",
       "      <td>2,103,746.69</td>\n",
       "      <td>HM</td>\n",
       "    </tr>\n",
       "    <tr>\n",
       "      <th>2</th>\n",
       "      <td>3.20</td>\n",
       "      <td>2.98</td>\n",
       "      <td>3.34</td>\n",
       "      <td>3.47</td>\n",
       "      <td>4.19</td>\n",
       "      <td>0.27</td>\n",
       "      <td>2,085,488.84</td>\n",
       "      <td>HM</td>\n",
       "    </tr>\n",
       "    <tr>\n",
       "      <th>3</th>\n",
       "      <td>2.13</td>\n",
       "      <td>0.85</td>\n",
       "      <td>1.79</td>\n",
       "      <td>2.77</td>\n",
       "      <td>3.72</td>\n",
       "      <td>-0.40</td>\n",
       "      <td>1,893,724.49</td>\n",
       "      <td>HM</td>\n",
       "    </tr>\n",
       "    <tr>\n",
       "      <th>4</th>\n",
       "      <td>1.75</td>\n",
       "      <td>1.36</td>\n",
       "      <td>1.09</td>\n",
       "      <td>2.44</td>\n",
       "      <td>2.31</td>\n",
       "      <td>2.12</td>\n",
       "      <td>2,461,228.12</td>\n",
       "      <td>H</td>\n",
       "    </tr>\n",
       "  </tbody>\n",
       "</table>\n",
       "</div>"
      ],
      "text/plain": [
       "   Conscientiousness  Openness  Extraversion  Agreeableness  \\\n",
       "0               2.29      1.98          2.05           2.86   \n",
       "1               1.21      1.10          1.37           2.02   \n",
       "2               3.20      2.98          3.34           3.47   \n",
       "3               2.13      0.85          1.79           2.77   \n",
       "4               1.75      1.36          1.09           2.44   \n",
       "\n",
       "   Emotional Stability  Cognitive Ability       Income Income Class  \n",
       "0                 2.82               1.37 2,322,927.67           HM  \n",
       "1                 3.13              -0.58 2,103,746.69           HM  \n",
       "2                 4.19               0.27 2,085,488.84           HM  \n",
       "3                 3.72              -0.40 1,893,724.49           HM  \n",
       "4                 2.31               2.12 2,461,228.12            H  "
      ]
     },
     "execution_count": 22,
     "metadata": {},
     "output_type": "execute_result"
    }
   ],
   "source": [
    "df.head()"
   ]
  },
  {
   "cell_type": "markdown",
   "metadata": {},
   "source": [
    "## 3.6 Visualisation <a name=\"visualisation\"></a>"
   ]
  },
  {
   "cell_type": "markdown",
   "metadata": {},
   "source": [
    "A pairplot of the dataset is given as follows:"
   ]
  },
  {
   "cell_type": "code",
   "execution_count": null,
   "metadata": {},
   "outputs": [],
   "source": [
    "# seaborn for pairplot\n",
    "import seaborn as sns\n",
    "# sns.set() to make it look nice\n",
    "sns.set()\n",
    "sns.pairplot(df, hue='Income Class', markers=['o', 'O',  '^', '<', '>']);"
   ]
  },
  {
   "cell_type": "markdown",
   "metadata": {},
   "source": [
    "## 4 References<a name=\"references\"></a>"
   ]
  },
  {
   "cell_type": "markdown",
   "metadata": {},
   "source": [
    "[1] Duckworth, A., Weir, D., Tsukayama, E. and Kwok, D., 2012. Who Does Well in Life? Conscientious Adults Excel in Both Objective and Subjective Success. Frontiers in Psychology, 3. <a name=\"ref1\"></a> <br>\n",
    "[2]  Doi.apa.org. 2020. APA Psycnet. [online] Available at: <https://doi.apa.org /doiLanding?doi=10.1037%2F0003-066X.51.2.77> [Accessed 26 November 2020]. <a name=\"ref2\"></a> <br>\n",
    "[3] Psychology.emory.edu. 2020. Interval. [online] Available at: <http://www.psychology.emory.edu/clinical/bliwise/Tutorials/SOM/smmod/scalemea/print2.htm> [Accessed 26 November 2020]. <a name=\"ref3\"></a> <br>\n",
    "[4] Psychology Today. 2020. Big 5 Personality Traits. [online] Available at: <https://www.psychologytoday.com/ie/basics/big-5-personality-traits> [Accessed 26 November 2020]. <a name=\"ref4\"></a> <br>\n",
    "[5] Reflectd. 2020. A Look Into Personality And The Big Five Personality Traits. [online] Available at: <https://reflectd.co/2013/03/22/what-is-personality-does-it-change/> [Accessed 26 November 2020]. <a name=\"ref5\"></a> <br>\n",
    "[6] Numpy.org. 2020. Numpy.Random.Multivariate_Normal — Numpy V1.19 Manual. [online] Available at: <https://numpy.org/doc/stable/reference/random/generated/numpy.random.multivariate_normal.html> [Accessed 26 November 2020]. <a name=\"ref6\"></a> <br>\n",
    "[7] list, P., Nanda, S. and L&#243;pez, R., 2020. Pretty Print 2D Python List. [online] Stack Overflow. Available at: <https://stackoverflow.com/questions/13214809/pretty-print-2d-python-list> [Accessed 26 November 2020]. <a name=\"ref7\"></a> <br>\n",
    "[8] Statistics How To. 2020. Z-Score: Definition, Formula And Calculation - Statistics How To. [online] Available at: <https://www.statisticshowto.com/probability-and-statistics/z-score/> [Accessed 2 December 2020].<a name=\"ref8\"></a>"
   ]
  }
 ],
 "metadata": {
  "kernelspec": {
   "display_name": "Python 3",
   "language": "python",
   "name": "python3"
  },
  "language_info": {
   "codemirror_mode": {
    "name": "ipython",
    "version": 3
   },
   "file_extension": ".py",
   "mimetype": "text/x-python",
   "name": "python",
   "nbconvert_exporter": "python",
   "pygments_lexer": "ipython3",
   "version": "3.8.5"
  }
 },
 "nbformat": 4,
 "nbformat_minor": 2
}
