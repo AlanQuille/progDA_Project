{
 "cells": [
  {
   "cell_type": "markdown",
   "metadata": {},
   "source": [
    "# Investigation of the Iris flower data set"
   ]
  },
  {
   "cell_type": "markdown",
   "metadata": {},
   "source": [
    "## Table of contents\n",
    "1. [Introduction](#introduction)\n",
    "\n",
    "2. [Questioning](#questioning)\n",
    "\n",
    "3. [Wrangling](#wrangling)\n",
    "\n",
    "    3.1. [Import libraries](#31)\n",
    "    \n",
    "    3.2. [Read in Iris flower dataset from csv file](#32)\n",
    "    \n",
    "4. [Exploration](#exploration)\n",
    "   \n",
    "    4.1 [Average values of attributes](#41)\n",
    "    \n",
    "    4.2 [Median values of attributes](#42)\n",
    "    \n",
    "    4.3 [Difference between medians and means](#43)\n",
    "    \n",
    "    4.4 [Shapiro-Wilk test for normality](#44)\n",
    "    \n",
    "    4.5 [Difference between means](#45)\n",
    "    \n",
    "    4.6 [Test for statistical significance ](#46)\n",
    "    \n",
    "    4.7 [Correlations between pairs of attributes](#47)\n",
    "    \n",
    "    4.8 [Output data to summary.txt](#48)\n",
    "    \n",
    "5. [Conclusions](#conclusions)\n",
    "\n",
    "6. [Bibliography](#bibliography)"
   ]
  },
  {
   "cell_type": "markdown",
   "metadata": {},
   "source": [
    "## 1 Introduction <a name=\"introduction\"></a>\n",
    "The purpose of this project is to simulate a dataset which represents income in the United States and the various factors that are associated with same. In this instance, the factors are IQ and personality (Big Five traits Openness, Conscientiousness, Extraversion, Agreeableness and Neuroticism) [1]\n",
    "\n",
    "The study of the distribution of Income and the factors that correlated with it are of interest because of questions concerning income equality, factors relating to success and possible negative effects relating to high and low income.\n",
    "\n",
    "Each of the factors and their distribution are described as follows:"
   ]
  },
  {
   "cell_type": "markdown",
   "metadata": {},
   "source": [
    "## 2 Factors <a name=\"factors\"></a>\n",
    "\n",
    "## 2.1 Income\n",
    "The factor that is of primary concern in this simulation is total lifetime income in the United States (called **I** for convenience here). The aim of the project is to simulate a distribution of total lifetime income given the mean and standard deviation of total lifetime income given in the paper[2].\n",
    "\n",
    "Generally, income (including lifetime income) is best described using the lognormal distribution as the mode tends to be less than the median which is less than the mean (reflecting income equality). However, due to the earnings were capped at a taxable maximum, the data is not sufficiently skewed to justify the transformation and can be modelled as a normal distribution.\n",
    "\n",
    "The mean and standard deviation are 980,000 and 738,000 respectively."
   ]
  },
  {
   "cell_type": "code",
   "execution_count": 4,
   "metadata": {},
   "outputs": [],
   "source": [
    "m1 = 980000\n",
    "stdev1 = 738000"
   ]
  },
  {
   "cell_type": "markdown",
   "metadata": {},
   "source": [
    "The values for mu and sigma produce the correct mean and median values for the lognormal distribution."
   ]
  },
  {
   "cell_type": "markdown",
   "metadata": {},
   "source": [
    "## 2.2 Cognitive ability\n",
    "Cognitive ability as measured by the paper includes memory, vocabulary and numeracy. It correlates positively with income. These measures (in particular vocabulary) correlate very highly with IQ[3]. IQ is measured initially on an ordinal scale with percentiles but is approximated on the interval scale as a normal distribution or bell curve across a whole population[4].\n",
    "\n",
    "In the paper, the mean and standard deviation are 0 and 1."
   ]
  },
  {
   "cell_type": "code",
   "execution_count": 2,
   "metadata": {},
   "outputs": [],
   "source": [
    "m2 = 0\n",
    "stdev2 = 1"
   ]
  },
  {
   "cell_type": "markdown",
   "metadata": {},
   "source": [
    "## 2.3 Big Five Personality Traits\n",
    "The Big Five Personaltiy traits are an attempt by psychologists to encapsulate and quantify several personality traits[5]. They traits are similar to IQ in that they are measured on the ordinal scale by psychologists but approximated on the interval scale as a normal distribution across a whole population[6]. The traits are measured on a scale where 4 means an individual scores extremely high in a trait, 1 means they score extremely low in a trait and 2 means the individual scores neither high nor low in a trait.\n",
    "The Big Five traits are Openness, Conscientiousness, Extraversion, Agreeableness and Emotional Stability/Neuroticism (the facets and domains of the Big Five are not considered here). The mean and standard deviations are drawn from the paper.\n",
    "### 2.3.1 Openness\n",
    "Openness measures the level of interest in art, intellectual pursuits and creativity in an individual. It also measures how unconventional and fantasy-prone they are. It correlates positively with income. The mean is 1.95 and the standard deviation is 0.55. \n",
    "### 2.3.2 Conscientiousness\n",
    "Conscientiousness measures how industrious, organised and self-disciplined an individual is. It also measures how cautious and dutiful they are. It correlates positively with income. The mean is 2.56 and the standard deviation is 0.48.\n",
    "### 2.3.3 Extraversion\n",
    "Extraversion measures how talkative, assertive and sensation-seeking an individual is. It also measures thier level of activity and positive emotions. It correlates negatively with income. The mean is 2.2 and 0.55.\n",
    "### 2.3.4 Agreeableness\n",
    "Extraversion measures how modest, altruistic and honest an individual is. It also measures how compassionate  and trusting they are. It correlates negatively with income. The mean is 2.53 and the standard deviation is 0.47.\n",
    "### 2.3.5 Emotional Stability/Neuroticism\n",
    "Emotional stability is the reverse of Neuroticism. Neuroticism measures how anxious, fearful and depressed an individual is. It also measures how self-conscious and impulsive they are. It correlates negatively with Income, whereas its reverse Emotional Stability correlates positively with income. The mean (of Emotional Stability) is 2.71 and the standard deviation is 0.61."
   ]
  },
  {
   "cell_type": "code",
   "execution_count": 3,
   "metadata": {},
   "outputs": [],
   "source": [
    "m3 = 1.95\n",
    "m4 = 2.56\n",
    "m5 = 2.2\n",
    "m6 = 2.53\n",
    "m7 = 2.71\n",
    "stdev3 = 0.55\n",
    "stdev4 = 0.48\n",
    "stdev5 = 0.55\n",
    "stdev6 = 0.47\n",
    "stdev7 = 0.61"
   ]
  },
  {
   "cell_type": "markdown",
   "metadata": {},
   "source": [
    "# 3 Simulation\n",
    "Since all the factors correlate with income (and most the factors also correlate with each other to some degree), the multivariate normal distribution is used to generate the dataset[5]. The mean vector and the  must be set and input:"
   ]
  },
  {
   "cell_type": "code",
   "execution_count": 6,
   "metadata": {},
   "outputs": [
    {
     "name": "stdout",
     "output_type": "stream",
     "text": [
      "[980000, 0, 1.95, 2.56, 2.2, 2.53, 2.71]\n"
     ]
    }
   ],
   "source": [
    "mean = [m1, m2, m3, m4, m5, m6, m7]\n",
    "print(mean)"
   ]
  },
  {
   "cell_type": "markdown",
   "metadata": {},
   "source": [
    "The covariance matrix is calculated by first getting the correlation matrix (the correlations taken from the paper) as follows[6] (pretty_print_matrix taken from stack overflow)"
   ]
  },
  {
   "cell_type": "code",
   "execution_count": 48,
   "metadata": {},
   "outputs": [
    {
     "name": "stdout",
     "output_type": "stream",
     "text": [
      "1   \t0.67\t0.61 \t0.63 \t0.23\t0.27\t0.08 \n",
      "0.67\t1   \t0.68 \t0.51 \t0.2 \t0.27\t0.1  \n",
      "0.61\t0.68\t1    \t0.8  \t0.25\t0.01\t-0.04\n",
      "0.63\t0.51\t0.8  \t1    \t0.07\t0.02\t-0.14\n",
      "0.23\t0.2 \t0.25 \t0.07 \t1   \t0.16\t0.16 \n",
      "0.27\t0.27\t0.01 \t0.02 \t0.16\t1   \t0.34 \n",
      "0.08\t0.1 \t-0.04\t-0.14\t0.16\t0.34\t1    \n"
     ]
    }
   ],
   "source": [
    "def pretty_print_matrix(matrix):\n",
    "    s = [[str(e) for e in row] for row in matrix]\n",
    "    lens = [max(map(len, col)) for col in zip(*s)]\n",
    "    fmt = '\\t'.join('{{:{}}}'.format(x) for x in lens)\n",
    "    table = [fmt.format(*row) for row in s]\n",
    "    print('\\n'.join(table))\n",
    "\n",
    "\n",
    "\n",
    "p1= [1, 0.67, 0.61, 0.63, 0.23, 0.27, 0.08]\n",
    "p2 = [0.67, 1, 0.68, 0.51, 0.2, 0.27, 0.1]\n",
    "p3 = [0.61, 0.68, 1, 0.8, 0.25, 0.01, -0.04]\n",
    "p4 = [0.63, 0.51, 0.8, 1, 0.07, 0.02, -0.14]\n",
    "p5 = [0.23, 0.20, 0.25, 0.07, 1, 0.16, 0.16]\n",
    "p6 = [0.27, 0.27, 0.01, 0.02, 0.16, 1, 0.34]\n",
    "p7 = [0.08, 0.10, -0.04, -0.14, 0.16, 0.34, 1]\n",
    "\n",
    "corr = [p1, p2, p3, p4, p5, p6, p7]\n",
    "pretty_print_matrix(corr)"
   ]
  },
  {
   "cell_type": "markdown",
   "metadata": {},
   "source": [
    "To get the covariance matrix, the standard deviations vecotr is obtained:"
   ]
  },
  {
   "cell_type": "code",
   "execution_count": 64,
   "metadata": {
    "scrolled": true
   },
   "outputs": [],
   "source": [
    "stdev_v = [stdev1, stdev2, stdev3, stdev4, stdev5, stdev6, stdev7]"
   ]
  },
  {
   "cell_type": "markdown",
   "metadata": {},
   "source": [
    "This is transformed using **numpy** into its diagonal:"
   ]
  },
  {
   "cell_type": "code",
   "execution_count": 50,
   "metadata": {},
   "outputs": [],
   "source": [
    "import numpy as np\n",
    "stdev_v = np.array(stdev_v)"
   ]
  },
  {
   "cell_type": "code",
   "execution_count": 74,
   "metadata": {
    "scrolled": false
   },
   "outputs": [
    {
     "name": "stdout",
     "output_type": "stream",
     "text": [
      "[[ 5.4464400e+11  6.7000000e-01  1.8452500e-01  1.4515200e-01\n",
      "   6.9575000e-02  5.9643000e-02  2.9768000e-02]\n",
      " [ 3.6491148e+11  1.0000000e+00  2.0570000e-01  1.1750400e-01\n",
      "   6.0500000e-02  5.9643000e-02  3.7210000e-02]\n",
      " [ 3.3223284e+11  6.8000000e-01  3.0250000e-01  1.8432000e-01\n",
      "   7.5625000e-02  2.2090000e-03 -1.4884000e-02]\n",
      " [ 3.4312572e+11  5.1000000e-01  2.4200000e-01  2.3040000e-01\n",
      "   2.1175000e-02  4.4180000e-03 -5.2094000e-02]\n",
      " [ 1.2526812e+11  2.0000000e-01  7.5625000e-02  1.6128000e-02\n",
      "   3.0250000e-01  3.5344000e-02  5.9536000e-02]\n",
      " [ 1.4705388e+11  2.7000000e-01  3.0250000e-03  4.6080000e-03\n",
      "   4.8400000e-02  2.2090000e-01  1.2651400e-01]\n",
      " [ 4.3571520e+10  1.0000000e-01 -1.2100000e-02 -3.2256000e-02\n",
      "   4.8400000e-02  7.5106000e-02  3.7210000e-01]]\n",
      "[738000, 1, 0.55, 0.48, 0.55, 0.47, 0.61]\n",
      "[7.38e+05 1.00e+00 5.50e-01 4.80e-01 5.50e-01 4.70e-01 6.10e-01]\n"
     ]
    }
   ],
   "source": [
    "#cov = stdev_v*np.array(corr)\n",
    "#print(cov)\n",
    "\n",
    "\n",
    "cov = stdev_v *np.array(corr) * np.transpose(stdev_v)\n",
    "print(cov)\n",
    "print(stdev_v)\n",
    "print(np.transpose(np.array(stdev_v)))\n",
    "\n",
    "#np.random.multivariate_normal(mean, cov, 5000)"
   ]
  },
  {
   "cell_type": "markdown",
   "metadata": {},
   "source": [
    "## 3 Wrangling <a name=\"wrangling\"></a>\n",
    "The data is imported from the CSV file \"iris.csv\", obtained from the website [3](#ref3). First, the appropriate libraries are imported to import and display the data:"
   ]
  },
  {
   "cell_type": "markdown",
   "metadata": {},
   "source": [
    "### 3.1 Import libraries <a name=\"31\"></a>"
   ]
  },
  {
   "cell_type": "code",
   "execution_count": 148,
   "metadata": {},
   "outputs": [],
   "source": [
    "# Import pandas to import and display CSV data as dataframe\n",
    "import pandas as pd\n",
    "# Import and start seaborn to make plots look better\n",
    "import seaborn as sns\n",
    "sns.set()\n",
    "# Import scipy library for tests for statistical significance\n",
    "from scipy import stats\n",
    "# Import pyplot for more plotting options\n",
    "import matplotlib.pyplot as plt\n",
    "# Import shapiro for Shapiro-Wilk test for normality\n",
    "from scipy.stats import shapiro\n",
    "# Import os for file removal\n",
    "import os"
   ]
  },
  {
   "cell_type": "markdown",
   "metadata": {},
   "source": [
    "### 3.2 Read in Iris flower dataset from csv file <a name=\"32\"></a>\n",
    "\n",
    "The data is then set as a Pandas dataframe called **df**. This dataframe has the attributes **petal length**, **petal width**, **sepal length**, **sepal width** and the **species** of each flower collected in the sample. The data is loaded into the dataframe in the following cell:"
   ]
  },
  {
   "cell_type": "code",
   "execution_count": 149,
   "metadata": {},
   "outputs": [],
   "source": [
    "# df is the main dataframe that will be used.\n",
    "df = pd.read_csv(\"iris.csv\")"
   ]
  },
  {
   "cell_type": "markdown",
   "metadata": {},
   "source": [
    "The first 5 entries of the dataframe are shown in the following cell:"
   ]
  },
  {
   "cell_type": "code",
   "execution_count": 150,
   "metadata": {},
   "outputs": [
    {
     "data": {
      "text/html": [
       "<div>\n",
       "<style scoped>\n",
       "    .dataframe tbody tr th:only-of-type {\n",
       "        vertical-align: middle;\n",
       "    }\n",
       "\n",
       "    .dataframe tbody tr th {\n",
       "        vertical-align: top;\n",
       "    }\n",
       "\n",
       "    .dataframe thead th {\n",
       "        text-align: right;\n",
       "    }\n",
       "</style>\n",
       "<table border=\"1\" class=\"dataframe\">\n",
       "  <thead>\n",
       "    <tr style=\"text-align: right;\">\n",
       "      <th></th>\n",
       "      <th>sepal_length</th>\n",
       "      <th>sepal_width</th>\n",
       "      <th>petal_length</th>\n",
       "      <th>petal_width</th>\n",
       "      <th>species</th>\n",
       "    </tr>\n",
       "  </thead>\n",
       "  <tbody>\n",
       "    <tr>\n",
       "      <td>0</td>\n",
       "      <td>5.1</td>\n",
       "      <td>3.5</td>\n",
       "      <td>1.4</td>\n",
       "      <td>0.2</td>\n",
       "      <td>setosa</td>\n",
       "    </tr>\n",
       "    <tr>\n",
       "      <td>1</td>\n",
       "      <td>4.9</td>\n",
       "      <td>3.0</td>\n",
       "      <td>1.4</td>\n",
       "      <td>0.2</td>\n",
       "      <td>setosa</td>\n",
       "    </tr>\n",
       "    <tr>\n",
       "      <td>2</td>\n",
       "      <td>4.7</td>\n",
       "      <td>3.2</td>\n",
       "      <td>1.3</td>\n",
       "      <td>0.2</td>\n",
       "      <td>setosa</td>\n",
       "    </tr>\n",
       "    <tr>\n",
       "      <td>3</td>\n",
       "      <td>4.6</td>\n",
       "      <td>3.1</td>\n",
       "      <td>1.5</td>\n",
       "      <td>0.2</td>\n",
       "      <td>setosa</td>\n",
       "    </tr>\n",
       "    <tr>\n",
       "      <td>4</td>\n",
       "      <td>5.0</td>\n",
       "      <td>3.6</td>\n",
       "      <td>1.4</td>\n",
       "      <td>0.2</td>\n",
       "      <td>setosa</td>\n",
       "    </tr>\n",
       "  </tbody>\n",
       "</table>\n",
       "</div>"
      ],
      "text/plain": [
       "   sepal_length  sepal_width  petal_length  petal_width species\n",
       "0           5.1          3.5           1.4          0.2  setosa\n",
       "1           4.9          3.0           1.4          0.2  setosa\n",
       "2           4.7          3.2           1.3          0.2  setosa\n",
       "3           4.6          3.1           1.5          0.2  setosa\n",
       "4           5.0          3.6           1.4          0.2  setosa"
      ]
     },
     "execution_count": 150,
     "metadata": {},
     "output_type": "execute_result"
    }
   ],
   "source": [
    "# 5 entries in dataframe to show.\n",
    "df.head()"
   ]
  },
  {
   "cell_type": "markdown",
   "metadata": {},
   "source": [
    "The number of null, N/A or blank entries must be determined to see if data is missing:"
   ]
  },
  {
   "cell_type": "code",
   "execution_count": 151,
   "metadata": {
    "scrolled": true
   },
   "outputs": [
    {
     "data": {
      "text/plain": [
       "sepal_length    0\n",
       "sepal_width     0\n",
       "petal_length    0\n",
       "petal_width     0\n",
       "species         0\n",
       "dtype: int64"
      ]
     },
     "execution_count": 151,
     "metadata": {},
     "output_type": "execute_result"
    }
   ],
   "source": [
    "# Find the null, blank or N/A entries and sum them.\n",
    "df.isnull().sum()"
   ]
  },
  {
   "cell_type": "markdown",
   "metadata": {},
   "source": [
    "It can be seen that there are no null or blank entries so it can be assumed for this analysis that no data is missing.\n",
    "\n",
    "The exploration phase of the analysis is described in the next section."
   ]
  },
  {
   "cell_type": "markdown",
   "metadata": {},
   "source": [
    "## 4 Exploration <a name=\"exploration\"></a>\n",
    "The data is summarised using the **pairplot** functtion from the **seaborn** module:"
   ]
  },
  {
   "cell_type": "code",
   "execution_count": 152,
   "metadata": {
    "scrolled": false
   },
   "outputs": [
    {
     "data": {
      "text/plain": [
       "<seaborn.axisgrid.PairGrid at 0x27a54f017c8>"
      ]
     },
     "execution_count": 152,
     "metadata": {},
     "output_type": "execute_result"
    },
    {
     "data": {
      "image/png": "[encoded data removed]",
      "text/plain": [
       "<Figure size 806.85x720 with 20 Axes>"
      ]
     },
     "metadata": {},
     "output_type": "display_data"
    }
   ],
   "source": [
    "sns.pairplot(df, hue=\"species\", markers=[\"o\", \"x\", \"D\"])"
   ]
  },
  {
   "cell_type": "markdown",
   "metadata": {},
   "source": [
    "... as can be seen from the graphs:\n",
    "1. The distributions of the attributes for setosa, versicolor and virginica appear to approximate normal distributions. \n",
    "2. The average value for sepal length of virginica seems to be larger than for versicolor, which is larger than setosa.\n",
    "3. The average value for sepal width of setosa seems to be larger than for virginica, which is slightly larger than for versicolor.\n",
    "4. The average value for the petal length and width of virginica seems to be larger than for versicolor, which is much larger than setosa.\n",
    "5. All the attributes seem to be positively correlated to varying degrees for all species of flower. \n",
    "6. Setosa seems to have weak positive correlations between its attributes except for one pair (sepal width and sepal length).\n",
    "\n",
    "In order to definitely answer the questions shown in section 2, more rigorous analysis must be conducted. In particular, the average values of the attributes of the specices of the flower are calculated in the next section."
   ]
  },
  {
   "cell_type": "markdown",
   "metadata": {},
   "source": [
    "### 4.1 Average values of attributes: <a name=\"41\"></a>\n",
    "The average values of the different species of Iris flower are calculated using the **mean** function:"
   ]
  },
  {
   "cell_type": "markdown",
   "metadata": {},
   "source": [
    "#### Setosa"
   ]
  },
  {
   "cell_type": "code",
   "execution_count": 153,
   "metadata": {
    "scrolled": false
   },
   "outputs": [
    {
     "data": {
      "text/plain": [
       "sepal_length    5.006\n",
       "sepal_width     3.418\n",
       "petal_length    1.464\n",
       "petal_width     0.244\n",
       "dtype: float64"
      ]
     },
     "execution_count": 153,
     "metadata": {},
     "output_type": "execute_result"
    }
   ],
   "source": [
    "mean1 = df[df['species']=='setosa'].mean()\n",
    "mean1"
   ]
  },
  {
   "cell_type": "markdown",
   "metadata": {},
   "source": [
    "#### Virginica"
   ]
  },
  {
   "cell_type": "code",
   "execution_count": 154,
   "metadata": {
    "scrolled": false
   },
   "outputs": [
    {
     "data": {
      "text/plain": [
       "sepal_length    6.588\n",
       "sepal_width     2.974\n",
       "petal_length    5.552\n",
       "petal_width     2.026\n",
       "dtype: float64"
      ]
     },
     "execution_count": 154,
     "metadata": {},
     "output_type": "execute_result"
    }
   ],
   "source": [
    "mean2 = df[df['species']=='virginica'].mean()\n",
    "mean2"
   ]
  },
  {
   "cell_type": "markdown",
   "metadata": {},
   "source": [
    "#### Versicolour"
   ]
  },
  {
   "cell_type": "code",
   "execution_count": 155,
   "metadata": {
    "scrolled": false
   },
   "outputs": [
    {
     "data": {
      "text/plain": [
       "sepal_length    5.936\n",
       "sepal_width     2.770\n",
       "petal_length    4.260\n",
       "petal_width     1.326\n",
       "dtype: float64"
      ]
     },
     "execution_count": 155,
     "metadata": {},
     "output_type": "execute_result"
    }
   ],
   "source": [
    "mean3 = df[df['species']=='versicolor'].mean()\n",
    "mean3"
   ]
  },
  {
   "cell_type": "markdown",
   "metadata": {},
   "source": [
    "#### Output to files\n",
    "The **output** class is declared to output this data (and all subsequent summary statistics) to **summary.txt**."
   ]
  },
  {
   "cell_type": "code",
   "execution_count": 156,
   "metadata": {},
   "outputs": [],
   "source": [
    "# Declare class which outputs to summary files\n",
    "# It outputs to summaryX.txt, where X is a\n",
    "# number which indicates the order in which\n",
    "# the file was output and after\n",
    "# 5 instances of the class has been created\n",
    "# it outputs summary.txt\n",
    "class output: \n",
    "    \n",
    "    # string indicates filename in \n",
    "    # summaryX.txt\n",
    "    sum_string = \"summary\"\n",
    "    \n",
    "    # counter is a class variable which\n",
    "    # is incremented every time an \n",
    "    # instance of the class is created.\n",
    "    counter = 0\n",
    "    \n",
    "    # Tracks how many appends to \n",
    "    # summaryX.txt have been made\n",
    "    append_count = 0\n",
    "    \n",
    "    # This is the constructor. \n",
    "    # it creates the heading \n",
    "    # for the summaryX.txt file\n",
    "    # or it deletes all files and\n",
    "    # creates a summary.txt file\n",
    "    def __init__(self, heading_str):\n",
    "        \n",
    "        # create summaryX.txt with heading when\n",
    "        # counter is less than 5\n",
    "        if(output.counter < 5):\n",
    "            \n",
    "            # Increment class variable counter\n",
    "            output.counter += 1\n",
    "            \n",
    "            # Instance variable output_string is \"summaryX.txt\"\n",
    "            self.output_string = self.sum_string + str(output.counter)\n",
    "            \n",
    "            # Output to summaryX.txt\n",
    "            with open(self.output_string +\".txt\", 'w') as f:\n",
    "                f.write(heading_str)\n",
    "                f.write(\"\\n\")\n",
    "                f.write(\"\\n\")\n",
    "        \n",
    "        # Delete summaryX.txt files and create\n",
    "        # summary.txt if fifth instances of the \n",
    "        # class has been created\n",
    "        else:\n",
    "            self.delete_summaries()\n",
    "            self.create_summary()\n",
    "    \n",
    "    # This appends value (which could be means, medians etc)\n",
    "    # to the preexisting summaryX.txt file\n",
    "    def append_open(self, value): \n",
    "        \n",
    "        with open(self.output_string + \".txt\", 'a') as f:\n",
    "            \n",
    "            # Using pandas to_csv function, append (mode = 'a') to summaryX.txt\n",
    "            f.write(\"\\n\")\n",
    "            value.to_csv(self.output_string + \".txt\", header=False, index=True, mode='a')\n",
    "            \n",
    "            # Increment append_count which indicates\n",
    "            # how many appends have been made for \n",
    "            # this instance of the class\n",
    "            output.append_count += 1\n",
    "            \n",
    "            # Add newline if three appends has been made\n",
    "            if(output.append_count ==3):\n",
    "                f.write(\"\\n\")\n",
    "                output.append_count = 0\n",
    "             \n",
    "    # This deletes summary\n",
    "    def delete_summaries(self):\n",
    "        \n",
    "        # This array opens the summary files and puts them\n",
    "        # in the array data_array\n",
    "        self.data_array = []\n",
    "        \n",
    "        # For loop goes from 1 to 5, or 2 to 6 etc. depending\n",
    "        # on what counter was set to initially (if it was \n",
    "        # set to 0, it goes from 1 to 5)\n",
    "        for i in range(output.counter - 4, output.counter + 1):\n",
    "            \n",
    "            # Open summaryX.txt and add to data_array\n",
    "            fin = open(\"summary\" + str(i) +\".txt\", \"r\")\n",
    "            self.data_array.append(fin.read())\n",
    "            fin.close()\n",
    "            \n",
    "            # Delete superfluous summary files after \n",
    "            # data is extracted from them\n",
    "            os.remove(\"summary\" + str(i) +\".txt\")\n",
    "            \n",
    "    # This code takes each summary file and combines it into one file\n",
    "    def create_summary(self):\n",
    "        # This code takes each summary file and combines it into one file\n",
    "        # summary.txt\n",
    "        \n",
    "        # combined_data is all the data collected from\n",
    "        # the summary files.\n",
    "        self.combined_data = \"\"\n",
    "\n",
    "        # This adds up all the data \n",
    "        # in data_array\n",
    "        for i in self.data_array:\n",
    "            self.combined_data += i\n",
    "    \n",
    "        # This outputs combined_data\n",
    "        # to summary_txt\n",
    "        fout = open(\"summary.txt\", \"w\")\n",
    "        fout.write(self.combined_data)\n",
    "        fout.close()"
   ]
  },
  {
   "cell_type": "code",
   "execution_count": 157,
   "metadata": {},
   "outputs": [],
   "source": [
    "# An instance of the class output is created to output to summary1.txt\n",
    "first_output = output(\"Means for setosa, virginica and versicolor respectively\")\n",
    "\n",
    "# Append to summary1.txt\n",
    "first_output.append_open(mean1)\n",
    "first_output.append_open(mean2)\n",
    "first_output.append_open(mean3)"
   ]
  },
  {
   "cell_type": "markdown",
   "metadata": {},
   "source": [
    "Now the average values are calculated for each attribute for each species, the median values are calculated as follows:"
   ]
  },
  {
   "cell_type": "markdown",
   "metadata": {},
   "source": [
    "### 4.2 Median values of attributes <a name=\"42\"></a>"
   ]
  },
  {
   "cell_type": "markdown",
   "metadata": {},
   "source": [
    "The medians are calculated using the **median** function:"
   ]
  },
  {
   "cell_type": "markdown",
   "metadata": {},
   "source": [
    "#### Setosa"
   ]
  },
  {
   "cell_type": "code",
   "execution_count": 158,
   "metadata": {
    "scrolled": true
   },
   "outputs": [
    {
     "data": {
      "text/plain": [
       "sepal_length    5.0\n",
       "sepal_width     3.4\n",
       "petal_length    1.5\n",
       "petal_width     0.2\n",
       "dtype: float64"
      ]
     },
     "execution_count": 158,
     "metadata": {},
     "output_type": "execute_result"
    }
   ],
   "source": [
    "median1 = df[df['species']=='setosa'].median()\n",
    "median1"
   ]
  },
  {
   "cell_type": "markdown",
   "metadata": {},
   "source": [
    "#### Virginica"
   ]
  },
  {
   "cell_type": "code",
   "execution_count": 159,
   "metadata": {
    "scrolled": true
   },
   "outputs": [
    {
     "data": {
      "text/plain": [
       "sepal_length    6.50\n",
       "sepal_width     3.00\n",
       "petal_length    5.55\n",
       "petal_width     2.00\n",
       "dtype: float64"
      ]
     },
     "execution_count": 159,
     "metadata": {},
     "output_type": "execute_result"
    }
   ],
   "source": [
    "median2 = df[df['species']=='virginica'].median()\n",
    "median2"
   ]
  },
  {
   "cell_type": "markdown",
   "metadata": {},
   "source": [
    "#### Versicolour"
   ]
  },
  {
   "cell_type": "code",
   "execution_count": 160,
   "metadata": {
    "scrolled": true
   },
   "outputs": [
    {
     "data": {
      "text/plain": [
       "sepal_length    5.90\n",
       "sepal_width     2.80\n",
       "petal_length    4.35\n",
       "petal_width     1.30\n",
       "dtype: float64"
      ]
     },
     "execution_count": 160,
     "metadata": {},
     "output_type": "execute_result"
    }
   ],
   "source": [
    "median3 = df[df['species']=='versicolor'].median()\n",
    "median3"
   ]
  },
  {
   "cell_type": "markdown",
   "metadata": {},
   "source": [
    "#### Output to files"
   ]
  },
  {
   "cell_type": "code",
   "execution_count": 161,
   "metadata": {},
   "outputs": [],
   "source": [
    "# An instance of the class output is created to output to summary2.txt\n",
    "second_output = output(\"Medians for setosa, virginica and versicolor respectively\")\n",
    "\n",
    "# Append to summary2.txt\n",
    "second_output.append_open(median1)\n",
    "second_output.append_open(median2)\n",
    "second_output.append_open(median3)"
   ]
  },
  {
   "cell_type": "markdown",
   "metadata": {},
   "source": [
    "### 4.3 Difference between medians and means <a name=\"43\"></a>"
   ]
  },
  {
   "cell_type": "markdown",
   "metadata": {},
   "source": [
    "The difference between the means and the medians expressed as a percentage of the mean are calculated as follows:"
   ]
  },
  {
   "cell_type": "markdown",
   "metadata": {},
   "source": [
    "#### Setosa"
   ]
  },
  {
   "cell_type": "code",
   "execution_count": 162,
   "metadata": {
    "scrolled": true
   },
   "outputs": [
    {
     "data": {
      "text/plain": [
       "sepal_length     0.119856\n",
       "sepal_width      0.526624\n",
       "petal_length    -2.459016\n",
       "petal_width     18.032787\n",
       "dtype: float64"
      ]
     },
     "execution_count": 162,
     "metadata": {},
     "output_type": "execute_result"
    }
   ],
   "source": [
    "diff1 = df[df['species']=='setosa'].mean() - df[df['species']=='setosa'].median()\n",
    "mean1 = df[df['species']=='setosa'].mean()\n",
    "diff1 = 100*diff1/mean1\n",
    "diff1"
   ]
  },
  {
   "cell_type": "markdown",
   "metadata": {},
   "source": [
    "#### Virginica"
   ]
  },
  {
   "cell_type": "code",
   "execution_count": 163,
   "metadata": {
    "scrolled": true
   },
   "outputs": [
    {
     "data": {
      "text/plain": [
       "sepal_length    1.335762\n",
       "sepal_width    -0.874243\n",
       "petal_length    0.036023\n",
       "petal_width     1.283317\n",
       "dtype: float64"
      ]
     },
     "execution_count": 163,
     "metadata": {},
     "output_type": "execute_result"
    }
   ],
   "source": [
    "diff2 = df[df['species']=='virginica'].mean() - df[df['species']=='virginica'].median()\n",
    "mean2 = df[df['species']=='virginica'].mean()\n",
    "diff2 = 100*diff2/mean2\n",
    "diff2"
   ]
  },
  {
   "cell_type": "markdown",
   "metadata": {},
   "source": [
    "#### Versicolour"
   ]
  },
  {
   "cell_type": "code",
   "execution_count": 164,
   "metadata": {
    "scrolled": true
   },
   "outputs": [
    {
     "data": {
      "text/plain": [
       "sepal_length    0.606469\n",
       "sepal_width    -1.083032\n",
       "petal_length   -2.112676\n",
       "petal_width     1.960784\n",
       "dtype: float64"
      ]
     },
     "execution_count": 164,
     "metadata": {},
     "output_type": "execute_result"
    }
   ],
   "source": [
    "diff3 = df[df['species']=='versicolor'].mean() - df[df['species']=='versicolor'].median()\n",
    "mean3 = df[df['species']=='versicolor'].mean()\n",
    "diff3 = 100*diff3/mean3\n",
    "diff3"
   ]
  },
  {
   "cell_type": "markdown",
   "metadata": {},
   "source": [
    "#### Output to files"
   ]
  },
  {
   "cell_type": "code",
   "execution_count": 165,
   "metadata": {},
   "outputs": [],
   "source": [
    "# An instance of the class output is created to output to summary3.txt\n",
    "third_output = output(\"Percentage differences between medians and means for setosa, virginica and versicolor respectively.\")\n",
    "\n",
    "# Append to summary3.txt\n",
    "third_output.append_open(diff1)\n",
    "third_output.append_open(diff2)\n",
    "third_output.append_open(diff3)"
   ]
  },
  {
   "cell_type": "markdown",
   "metadata": {},
   "source": [
    "For most of the values, the difference between the mean and the median is small or neglible which indicates that the attributes  approximate the normal distribution (a perfect normal distribution would have the same value for mean and median) [4](#ref4). There is a -2% and -2.5% difference between the mean and median for versicolour and setosa petal length respectively which indicates that the distribution is slightly left-skewed (mean<median, left-skew) but still a good approximation to the normal distribution. For setosa petal width, there is an 18% difference between the mean and the median indicating a moderate skew to the right (mean>median, right-skew). This calls into question whether petal width for setosa is a good approximation to the normal distribution.\n",
    "\n",
    "In order to rigorously test whether the attributes are normally distrbuted, the Shapiro-Wilk test is employed [5](#ref5)"
   ]
  },
  {
   "cell_type": "markdown",
   "metadata": {},
   "source": [
    "### 4.4 Shapiro-Wilk test for normality <a name=\"44\"></a>\n",
    "This test works by setting a cut-off value called alpha (in this case alpha=0.05). The test is performed on the data. If the p-value extracted from the test exceeds alpha, then we cannot reject the null hypothesis that the sample approximates a normal distribution. Otherwise, we can safely reject the null hypothesis and say the distribution is not normal.\n",
    "The test is conducted for the attributes of all species of Iris flower by writing an appropriate function:"
   ]
  },
  {
   "cell_type": "code",
   "execution_count": 166,
   "metadata": {},
   "outputs": [],
   "source": [
    "# Function to perform Shapiro-Wilk test for normality on attributes of flowers in data set\n",
    "def shapiro_test(attribute, sp):\n",
    "    \n",
    "    # Cut off value\n",
    "    alpha = 0.05\n",
    "    \n",
    "    # the attribute and species to be tested\n",
    "    data = df[df['species']==sp][attribute]\n",
    "    \n",
    "    # Test statistic and p-value\n",
    "    stat, p = shapiro(data)\n",
    "    \n",
    "    # Output results to screen\n",
    "    print(\"test statistic: {}, p-value: {}\".format(stat, p))\n",
    "    \n",
    "    # If p-value exceeds cut-off value\n",
    "    if p > alpha:\n",
    "        print(\"Null hypothesis is not rejected, sample approximates normal distribution\")\n",
    "    else:\n",
    "        print(\"Null hypothesis is rejected, sample does not approximate normal distribution\")"
   ]
  },
  {
   "cell_type": "markdown",
   "metadata": {},
   "source": [
    "#### Setosa"
   ]
  },
  {
   "cell_type": "code",
   "execution_count": 167,
   "metadata": {
    "scrolled": false
   },
   "outputs": [
    {
     "name": "stdout",
     "output_type": "stream",
     "text": [
      "test statistic: 0.9549458622932434, p-value: 0.05464918911457062\n",
      "Null hypothesis is not rejected, sample approximates normal distribution\n"
     ]
    }
   ],
   "source": [
    "shapiro_test(\"petal_length\", \"setosa\")"
   ]
  },
  {
   "cell_type": "code",
   "execution_count": 168,
   "metadata": {
    "scrolled": false
   },
   "outputs": [
    {
     "name": "stdout",
     "output_type": "stream",
     "text": [
      "test statistic: 0.8138170838356018, p-value: 1.8525804534874624e-06\n",
      "Null hypothesis is rejected, sample does not approximate normal distribution\n"
     ]
    }
   ],
   "source": [
    "shapiro_test(\"petal_width\", \"setosa\")"
   ]
  },
  {
   "cell_type": "code",
   "execution_count": 169,
   "metadata": {
    "scrolled": false
   },
   "outputs": [
    {
     "name": "stdout",
     "output_type": "stream",
     "text": [
      "test statistic: 0.9776989221572876, p-value: 0.4595281183719635\n",
      "Null hypothesis is not rejected, sample approximates normal distribution\n"
     ]
    }
   ],
   "source": [
    "shapiro_test(\"sepal_length\", \"setosa\")"
   ]
  },
  {
   "cell_type": "code",
   "execution_count": 170,
   "metadata": {
    "scrolled": false
   },
   "outputs": [
    {
     "name": "stdout",
     "output_type": "stream",
     "text": [
      "test statistic: 0.968691885471344, p-value: 0.20465604960918427\n",
      "Null hypothesis is not rejected, sample approximates normal distribution\n"
     ]
    }
   ],
   "source": [
    "shapiro_test(\"sepal_width\", \"setosa\")"
   ]
  },
  {
   "cell_type": "markdown",
   "metadata": {},
   "source": [
    "#### Virginica"
   ]
  },
  {
   "cell_type": "code",
   "execution_count": 171,
   "metadata": {
    "scrolled": true
   },
   "outputs": [
    {
     "name": "stdout",
     "output_type": "stream",
     "text": [
      "test statistic: 0.9621862769126892, p-value: 0.10977369546890259\n",
      "Null hypothesis is not rejected, sample approximates normal distribution\n"
     ]
    }
   ],
   "source": [
    "shapiro_test(\"petal_length\", \"virginica\")"
   ]
  },
  {
   "cell_type": "code",
   "execution_count": 172,
   "metadata": {
    "scrolled": true
   },
   "outputs": [
    {
     "name": "stdout",
     "output_type": "stream",
     "text": [
      "test statistic: 0.9597718715667725, p-value: 0.08695744723081589\n",
      "Null hypothesis is not rejected, sample approximates normal distribution\n"
     ]
    }
   ],
   "source": [
    "shapiro_test(\"petal_width\", \"virginica\")"
   ]
  },
  {
   "cell_type": "code",
   "execution_count": 173,
   "metadata": {
    "scrolled": true
   },
   "outputs": [
    {
     "name": "stdout",
     "output_type": "stream",
     "text": [
      "test statistic: 0.9711798429489136, p-value: 0.25832483172416687\n",
      "Null hypothesis is not rejected, sample approximates normal distribution\n"
     ]
    }
   ],
   "source": [
    "shapiro_test(\"sepal_length\", \"virginica\")"
   ]
  },
  {
   "cell_type": "code",
   "execution_count": 174,
   "metadata": {
    "scrolled": true
   },
   "outputs": [
    {
     "name": "stdout",
     "output_type": "stream",
     "text": [
      "test statistic: 0.9673910140991211, p-value: 0.1809043288230896\n",
      "Null hypothesis is not rejected, sample approximates normal distribution\n"
     ]
    }
   ],
   "source": [
    "shapiro_test(\"sepal_width\", \"virginica\")"
   ]
  },
  {
   "cell_type": "markdown",
   "metadata": {},
   "source": [
    "#### Versicolour"
   ]
  },
  {
   "cell_type": "code",
   "execution_count": 175,
   "metadata": {
    "scrolled": false
   },
   "outputs": [
    {
     "name": "stdout",
     "output_type": "stream",
     "text": [
      "test statistic: 0.9660047888755798, p-value: 0.1584833413362503\n",
      "Null hypothesis is not rejected, sample approximates normal distribution\n"
     ]
    }
   ],
   "source": [
    "shapiro_test(\"petal_length\", \"versicolor\")"
   ]
  },
  {
   "cell_type": "code",
   "execution_count": 176,
   "metadata": {
    "scrolled": false
   },
   "outputs": [
    {
     "name": "stdout",
     "output_type": "stream",
     "text": [
      "test statistic: 0.947626531124115, p-value: 0.027278218418359756\n",
      "Null hypothesis is rejected, sample does not approximate normal distribution\n"
     ]
    }
   ],
   "source": [
    "shapiro_test(\"petal_width\", \"versicolor\")"
   ]
  },
  {
   "cell_type": "code",
   "execution_count": 177,
   "metadata": {
    "scrolled": false
   },
   "outputs": [
    {
     "name": "stdout",
     "output_type": "stream",
     "text": [
      "test statistic: 0.9778355956077576, p-value: 0.46473264694213867\n",
      "Null hypothesis is not rejected, sample approximates normal distribution\n"
     ]
    }
   ],
   "source": [
    "shapiro_test(\"sepal_length\", \"versicolor\")"
   ]
  },
  {
   "cell_type": "code",
   "execution_count": 178,
   "metadata": {
    "scrolled": true
   },
   "outputs": [
    {
     "name": "stdout",
     "output_type": "stream",
     "text": [
      "test statistic: 0.9741330742835999, p-value: 0.33798879384994507\n",
      "Null hypothesis is not rejected, sample approximates normal distribution\n"
     ]
    }
   ],
   "source": [
    "shapiro_test(\"sepal_width\", \"versicolor\")"
   ]
  },
  {
   "cell_type": "markdown",
   "metadata": {},
   "source": [
    "All but two datasets pass the test of normality, which is expected by the shape of the distributions in the plots shown at the beginning of this section. The only two datasets that fail the test of normality are the versicolor petal widths and the setosa petal widths. The setosa petal widths had a relatively large difference between the mean and the median (18%) so it is expected that they would fail the test for normality. The difference between the mean and the median for versicolor petal width was only 2% however, so it is surprising that that distribution fails the test of normality when other datasets with larger differences passed.\n",
    "\n",
    "The difference between the means for different species of flower is calculated in the next section."
   ]
  },
  {
   "cell_type": "markdown",
   "metadata": {},
   "source": [
    "### 4.5 Difference between means <a name=\"45\"></a>\n",
    "The difference between the means are calculated with the **mean** function:"
   ]
  },
  {
   "cell_type": "markdown",
   "metadata": {},
   "source": [
    "#### Versicolour and Setosa"
   ]
  },
  {
   "cell_type": "code",
   "execution_count": 179,
   "metadata": {
    "scrolled": true
   },
   "outputs": [
    {
     "data": {
      "text/plain": [
       "sepal_length    0.930\n",
       "sepal_width    -0.648\n",
       "petal_length    2.796\n",
       "petal_width     1.082\n",
       "dtype: float64"
      ]
     },
     "execution_count": 179,
     "metadata": {},
     "output_type": "execute_result"
    }
   ],
   "source": [
    "mnd1 = df[df['species']=='versicolor'].mean() - df[df['species']=='setosa'].mean() \n",
    "mnd1"
   ]
  },
  {
   "cell_type": "markdown",
   "metadata": {},
   "source": [
    "#### Virginica and setosa"
   ]
  },
  {
   "cell_type": "code",
   "execution_count": 180,
   "metadata": {
    "scrolled": true
   },
   "outputs": [
    {
     "data": {
      "text/plain": [
       "sepal_length    1.582\n",
       "sepal_width    -0.444\n",
       "petal_length    4.088\n",
       "petal_width     1.782\n",
       "dtype: float64"
      ]
     },
     "execution_count": 180,
     "metadata": {},
     "output_type": "execute_result"
    }
   ],
   "source": [
    "mnd2 = df[df['species']=='virginica'].mean() - df[df['species']=='setosa'].mean() \n",
    "mnd2 "
   ]
  },
  {
   "cell_type": "markdown",
   "metadata": {},
   "source": [
    "#### Virginica and versicolor"
   ]
  },
  {
   "cell_type": "code",
   "execution_count": 181,
   "metadata": {
    "scrolled": true
   },
   "outputs": [
    {
     "data": {
      "text/plain": [
       "sepal_length    0.652\n",
       "sepal_width     0.204\n",
       "petal_length    1.292\n",
       "petal_width     0.700\n",
       "dtype: float64"
      ]
     },
     "execution_count": 181,
     "metadata": {},
     "output_type": "execute_result"
    }
   ],
   "source": [
    "mnd3 = df[df['species']=='virginica'].mean() - df[df['species']=='versicolor'].mean() \n",
    "mnd3"
   ]
  },
  {
   "cell_type": "markdown",
   "metadata": {},
   "source": [
    "#### Output to files"
   ]
  },
  {
   "cell_type": "code",
   "execution_count": 182,
   "metadata": {},
   "outputs": [],
   "source": [
    "# An instance of the class output is created to output to summary4.txt\n",
    "fourth_output = output(\"Differences between means for versicolor/setosa, virginica/setosa and virginica/versicolor respectively.\")\n",
    "\n",
    "# Append to summary4.txt\n",
    "fourth_output.append_open(mnd1)\n",
    "fourth_output.append_open(mnd2)\n",
    "fourth_output.append_open(mnd3)"
   ]
  },
  {
   "cell_type": "markdown",
   "metadata": {},
   "source": [
    "These results indicate that:\n",
    "1. Versicolor has larger sepal length, petal length and petal width than setosa but smaller sepal width.\n",
    "2. Virginica has larger sepal length, petal length and petal width than setosa but smaller sepal width\n",
    "3. Virginica has larger sepal length, sepal width, petal length and petal width than versicolor.\n",
    "\n",
    "These results are congruent with the pairplots. It must be determined if these difference are statistically significant i.e. whether these differences are due to sampling error or reflect real differences in the means. This is done by performing an independant samples t-test and is done in the next section:"
   ]
  },
  {
   "cell_type": "markdown",
   "metadata": {},
   "source": [
    "### 4.6 Test for statistical significance <a name=\"46\"></a>\n",
    "The appropriate test for significance for the difference between means between two independant groups is the independant t-test [6](#ref6). In order to conduct the t-test, it is necessary that the variances are homogeneous and that the dependant variable is normally distrbuted within each group. This technically means that the test is not appropriate for versicolor petal widths and the setosa petal widths as it was previously shown that they fail the Shapiro-Wilk test for normality. However, the independant t-test is robust to moderate violations of normality and homogenity (i.e. the samples having different variances) as long as:\n",
    "\n",
    "1. The sample sizes are the same. [7](#ref7)\n",
    "2. The sample size of each group is greater than or equal to 30.\n",
    "3. If the variance of one group is not more than 4 times larger than the variance of the other group.\n",
    "\n",
    "Each and every attribute has 50 data points for each species of Iris flower so conditions 1 and 2 are met. Condition three is tested as follows:"
   ]
  },
  {
   "cell_type": "code",
   "execution_count": 183,
   "metadata": {},
   "outputs": [],
   "source": [
    "# Get standard deviations of all attributes for every species of flower\n",
    "set_std = df[df['species']=='setosa'].drop(columns=['species']).std()\n",
    "virg_std = df[df['species']=='virginica'].drop(columns=['species']).std()\n",
    "vers_std = df[df['species']=='versicolor'].drop(columns=['species']).std()\n",
    "\n",
    "# Get variances of all attributes for every species of flower = std^2\n",
    "set_var = set_std**2\n",
    "virg_var = virg_std**2\n",
    "vers_var = vers_std**2\n",
    "\n",
    "# Divide one by another to see how many times the variance of one group is larger than another"
   ]
  },
  {
   "cell_type": "markdown",
   "metadata": {},
   "source": [
    "#### Versicolor and setosa"
   ]
  },
  {
   "cell_type": "code",
   "execution_count": 184,
   "metadata": {
    "scrolled": false
   },
   "outputs": [
    {
     "data": {
      "text/plain": [
       "sepal_length    2.144345\n",
       "sepal_width     0.678259\n",
       "petal_length    7.334599\n",
       "petal_width     3.402344\n",
       "dtype: float64"
      ]
     },
     "execution_count": 184,
     "metadata": {},
     "output_type": "execute_result"
    }
   ],
   "source": [
    "vers_var/set_var"
   ]
  },
  {
   "cell_type": "markdown",
   "metadata": {},
   "source": [
    "#### Virginica and setosa"
   ]
  },
  {
   "cell_type": "code",
   "execution_count": 185,
   "metadata": {
    "scrolled": true
   },
   "outputs": [
    {
     "data": {
      "text/plain": [
       "sepal_length     3.254295\n",
       "sepal_width      0.716382\n",
       "petal_length    10.117137\n",
       "petal_width      6.562855\n",
       "dtype: float64"
      ]
     },
     "execution_count": 185,
     "metadata": {},
     "output_type": "execute_result"
    }
   ],
   "source": [
    "virg_var/set_var"
   ]
  },
  {
   "cell_type": "markdown",
   "metadata": {},
   "source": [
    "#### Virginica and versicolor"
   ]
  },
  {
   "cell_type": "code",
   "execution_count": 186,
   "metadata": {
    "scrolled": true
   },
   "outputs": [
    {
     "data": {
      "text/plain": [
       "sepal_length    1.517618\n",
       "sepal_width     1.056207\n",
       "petal_length    1.379372\n",
       "petal_width     1.928922\n",
       "dtype: float64"
      ]
     },
     "execution_count": 186,
     "metadata": {},
     "output_type": "execute_result"
    }
   ],
   "source": [
    "virg_var/vers_var"
   ]
  },
  {
   "cell_type": "markdown",
   "metadata": {},
   "source": [
    "... as can be seen from the results, there are several violations of the third condition. The difference between the variances of virginica and setosa petal lengths is 10 times, the difference between the petal widths of same is 6.5 times. The difference between virginica and versicolor petal length variances is 10, the difference between petal width variances for same is 6.5 times. The variance difference for the petal lengths of versicolor and setosa is 7.3 times. However, the Welch's t-test (which is like the independant t-test but for unequal variances) can still be used. As before, if the p-value of the test is less than the cut-off value (in this case 0.05) then we can reject the null hypothesis that the means are the same. This is done as follows:"
   ]
  },
  {
   "cell_type": "code",
   "execution_count": 187,
   "metadata": {},
   "outputs": [],
   "source": [
    "def ind_test(group1, group2):\n",
    "    \n",
    "     # Independant two sample t-test for difference between means of groups\n",
    "     print (\"Independent two sample t-test for groups with different means: \")\n",
    "    \n",
    "     # equal_var = False means that the Welch's t-test is used for samples with unequal variances\n",
    "     print (stats.ttest_ind(group1, group2, equal_var = False))\n",
    "    \n",
    "     # Degrees of freedom\n",
    "     print (\"Degrees of freedom: \")\n",
    "    \n",
    "     # Degrees of freedom = size of group 1 + size of group 2 - 1\n",
    "     print (len(group1) + len(group2) - 1)"
   ]
  },
  {
   "cell_type": "markdown",
   "metadata": {},
   "source": [
    "These tests are used to see if the difference between the means are statistically significant:"
   ]
  },
  {
   "cell_type": "code",
   "execution_count": 188,
   "metadata": {
    "scrolled": true
   },
   "outputs": [],
   "source": [
    "# create three dataframes for each species without the species column\n",
    "df1 = df[df['species']=='virginica'].drop(columns=['species'])\n",
    "df2 = df[df['species']=='setosa'].drop(columns=['species'])\n",
    "df3 = df[df['species']=='versicolor'].drop(columns=['species'])\n",
    "# Perform independant t-test for different species for each and every attribute"
   ]
  },
  {
   "cell_type": "markdown",
   "metadata": {},
   "source": [
    "#### Versicolour and Setosa"
   ]
  },
  {
   "cell_type": "code",
   "execution_count": 189,
   "metadata": {
    "scrolled": true
   },
   "outputs": [
    {
     "name": "stdout",
     "output_type": "stream",
     "text": [
      "Independent two sample t-test for groups with different means: \n",
      "Ttest_indResult(statistic=array([10.52098627, -9.28277256, 39.46866259, 34.01237859]), pvalue=array([3.74674261e-17, 5.87960147e-15, 1.05721003e-45, 1.53779681e-47]))\n",
      "Degrees of freedom: \n",
      "99\n"
     ]
    }
   ],
   "source": [
    "ind_test(df3, df2)"
   ]
  },
  {
   "cell_type": "markdown",
   "metadata": {},
   "source": [
    "#### Virginica and setosa"
   ]
  },
  {
   "cell_type": "code",
   "execution_count": 190,
   "metadata": {
    "scrolled": false
   },
   "outputs": [
    {
     "name": "stdout",
     "output_type": "stream",
     "text": [
      "Independent two sample t-test for groups with different means: \n",
      "Ttest_indResult(statistic=array([15.38619582, -6.289385  , 49.96570336, 42.73822967]), pvalue=array([3.96686727e-25, 9.58603917e-09, 9.71386706e-50, 1.46674942e-48]))\n",
      "Degrees of freedom: \n",
      "99\n"
     ]
    }
   ],
   "source": [
    "ind_test(df1, df2)"
   ]
  },
  {
   "cell_type": "markdown",
   "metadata": {},
   "source": [
    "#### Virginica and versicolor"
   ]
  },
  {
   "cell_type": "code",
   "execution_count": 191,
   "metadata": {
    "scrolled": false
   },
   "outputs": [
    {
     "name": "stdout",
     "output_type": "stream",
     "text": [
      "Independent two sample t-test for groups with different means: \n",
      "Ttest_indResult(statistic=array([ 5.62916526,  3.20576075, 12.60377944, 14.62536705]), pvalue=array([1.86614439e-07, 1.81948348e-03, 4.90028753e-22, 2.11153440e-25]))\n",
      "Degrees of freedom: \n",
      "99\n"
     ]
    }
   ],
   "source": [
    "ind_test(df1, df3)"
   ]
  },
  {
   "cell_type": "markdown",
   "metadata": {},
   "source": [
    "The results show that all the p-values are much less than 0.05 for all differences between the means for virginica, setosa and versicolor. This means that the null hypothesis that the means are the same for all 4 attributes (petal length, petal width, sepal length and sepal width) can be safely rejected."
   ]
  },
  {
   "cell_type": "markdown",
   "metadata": {},
   "source": [
    "### 4.7 Correlations between pairs of attributes <a name=\"47\"></a>\n",
    "To determine how correlated (or related) the attributes of the species of flower are, Pearson's correlation coefficient is calculated. [8](#ref8) \n",
    "\n",
    "The calculations of the correlation coefficients are given as follows:"
   ]
  },
  {
   "cell_type": "markdown",
   "metadata": {},
   "source": [
    "#### Setosa"
   ]
  },
  {
   "cell_type": "code",
   "execution_count": 192,
   "metadata": {
    "scrolled": true
   },
   "outputs": [
    {
     "data": {
      "text/html": [
       "<div>\n",
       "<style scoped>\n",
       "    .dataframe tbody tr th:only-of-type {\n",
       "        vertical-align: middle;\n",
       "    }\n",
       "\n",
       "    .dataframe tbody tr th {\n",
       "        vertical-align: top;\n",
       "    }\n",
       "\n",
       "    .dataframe thead th {\n",
       "        text-align: right;\n",
       "    }\n",
       "</style>\n",
       "<table border=\"1\" class=\"dataframe\">\n",
       "  <thead>\n",
       "    <tr style=\"text-align: right;\">\n",
       "      <th></th>\n",
       "      <th>sepal_length</th>\n",
       "      <th>sepal_width</th>\n",
       "      <th>petal_length</th>\n",
       "      <th>petal_width</th>\n",
       "    </tr>\n",
       "  </thead>\n",
       "  <tbody>\n",
       "    <tr>\n",
       "      <td>sepal_length</td>\n",
       "      <td>1.000000</td>\n",
       "      <td>0.746780</td>\n",
       "      <td>0.263874</td>\n",
       "      <td>0.279092</td>\n",
       "    </tr>\n",
       "    <tr>\n",
       "      <td>sepal_width</td>\n",
       "      <td>0.746780</td>\n",
       "      <td>1.000000</td>\n",
       "      <td>0.176695</td>\n",
       "      <td>0.279973</td>\n",
       "    </tr>\n",
       "    <tr>\n",
       "      <td>petal_length</td>\n",
       "      <td>0.263874</td>\n",
       "      <td>0.176695</td>\n",
       "      <td>1.000000</td>\n",
       "      <td>0.306308</td>\n",
       "    </tr>\n",
       "    <tr>\n",
       "      <td>petal_width</td>\n",
       "      <td>0.279092</td>\n",
       "      <td>0.279973</td>\n",
       "      <td>0.306308</td>\n",
       "      <td>1.000000</td>\n",
       "    </tr>\n",
       "  </tbody>\n",
       "</table>\n",
       "</div>"
      ],
      "text/plain": [
       "              sepal_length  sepal_width  petal_length  petal_width\n",
       "sepal_length      1.000000     0.746780      0.263874     0.279092\n",
       "sepal_width       0.746780     1.000000      0.176695     0.279973\n",
       "petal_length      0.263874     0.176695      1.000000     0.306308\n",
       "petal_width       0.279092     0.279973      0.306308     1.000000"
      ]
     },
     "execution_count": 192,
     "metadata": {},
     "output_type": "execute_result"
    }
   ],
   "source": [
    "corr1 = df[df['species']=='setosa'].corr(method=\"pearson\")\n",
    "corr1"
   ]
  },
  {
   "cell_type": "markdown",
   "metadata": {},
   "source": [
    "#### Virginica"
   ]
  },
  {
   "cell_type": "code",
   "execution_count": 193,
   "metadata": {
    "scrolled": true
   },
   "outputs": [
    {
     "data": {
      "text/html": [
       "<div>\n",
       "<style scoped>\n",
       "    .dataframe tbody tr th:only-of-type {\n",
       "        vertical-align: middle;\n",
       "    }\n",
       "\n",
       "    .dataframe tbody tr th {\n",
       "        vertical-align: top;\n",
       "    }\n",
       "\n",
       "    .dataframe thead th {\n",
       "        text-align: right;\n",
       "    }\n",
       "</style>\n",
       "<table border=\"1\" class=\"dataframe\">\n",
       "  <thead>\n",
       "    <tr style=\"text-align: right;\">\n",
       "      <th></th>\n",
       "      <th>sepal_length</th>\n",
       "      <th>sepal_width</th>\n",
       "      <th>petal_length</th>\n",
       "      <th>petal_width</th>\n",
       "    </tr>\n",
       "  </thead>\n",
       "  <tbody>\n",
       "    <tr>\n",
       "      <td>sepal_length</td>\n",
       "      <td>1.000000</td>\n",
       "      <td>0.457228</td>\n",
       "      <td>0.864225</td>\n",
       "      <td>0.281108</td>\n",
       "    </tr>\n",
       "    <tr>\n",
       "      <td>sepal_width</td>\n",
       "      <td>0.457228</td>\n",
       "      <td>1.000000</td>\n",
       "      <td>0.401045</td>\n",
       "      <td>0.537728</td>\n",
       "    </tr>\n",
       "    <tr>\n",
       "      <td>petal_length</td>\n",
       "      <td>0.864225</td>\n",
       "      <td>0.401045</td>\n",
       "      <td>1.000000</td>\n",
       "      <td>0.322108</td>\n",
       "    </tr>\n",
       "    <tr>\n",
       "      <td>petal_width</td>\n",
       "      <td>0.281108</td>\n",
       "      <td>0.537728</td>\n",
       "      <td>0.322108</td>\n",
       "      <td>1.000000</td>\n",
       "    </tr>\n",
       "  </tbody>\n",
       "</table>\n",
       "</div>"
      ],
      "text/plain": [
       "              sepal_length  sepal_width  petal_length  petal_width\n",
       "sepal_length      1.000000     0.457228      0.864225     0.281108\n",
       "sepal_width       0.457228     1.000000      0.401045     0.537728\n",
       "petal_length      0.864225     0.401045      1.000000     0.322108\n",
       "petal_width       0.281108     0.537728      0.322108     1.000000"
      ]
     },
     "execution_count": 193,
     "metadata": {},
     "output_type": "execute_result"
    }
   ],
   "source": [
    "corr2 = df[df['species']=='virginica'].corr(method=\"pearson\")\n",
    "corr2"
   ]
  },
  {
   "cell_type": "markdown",
   "metadata": {},
   "source": [
    "#### Versicolour"
   ]
  },
  {
   "cell_type": "code",
   "execution_count": 194,
   "metadata": {
    "scrolled": false
   },
   "outputs": [
    {
     "data": {
      "text/html": [
       "<div>\n",
       "<style scoped>\n",
       "    .dataframe tbody tr th:only-of-type {\n",
       "        vertical-align: middle;\n",
       "    }\n",
       "\n",
       "    .dataframe tbody tr th {\n",
       "        vertical-align: top;\n",
       "    }\n",
       "\n",
       "    .dataframe thead th {\n",
       "        text-align: right;\n",
       "    }\n",
       "</style>\n",
       "<table border=\"1\" class=\"dataframe\">\n",
       "  <thead>\n",
       "    <tr style=\"text-align: right;\">\n",
       "      <th></th>\n",
       "      <th>sepal_length</th>\n",
       "      <th>sepal_width</th>\n",
       "      <th>petal_length</th>\n",
       "      <th>petal_width</th>\n",
       "    </tr>\n",
       "  </thead>\n",
       "  <tbody>\n",
       "    <tr>\n",
       "      <td>sepal_length</td>\n",
       "      <td>1.000000</td>\n",
       "      <td>0.525911</td>\n",
       "      <td>0.754049</td>\n",
       "      <td>0.546461</td>\n",
       "    </tr>\n",
       "    <tr>\n",
       "      <td>sepal_width</td>\n",
       "      <td>0.525911</td>\n",
       "      <td>1.000000</td>\n",
       "      <td>0.560522</td>\n",
       "      <td>0.663999</td>\n",
       "    </tr>\n",
       "    <tr>\n",
       "      <td>petal_length</td>\n",
       "      <td>0.754049</td>\n",
       "      <td>0.560522</td>\n",
       "      <td>1.000000</td>\n",
       "      <td>0.786668</td>\n",
       "    </tr>\n",
       "    <tr>\n",
       "      <td>petal_width</td>\n",
       "      <td>0.546461</td>\n",
       "      <td>0.663999</td>\n",
       "      <td>0.786668</td>\n",
       "      <td>1.000000</td>\n",
       "    </tr>\n",
       "  </tbody>\n",
       "</table>\n",
       "</div>"
      ],
      "text/plain": [
       "              sepal_length  sepal_width  petal_length  petal_width\n",
       "sepal_length      1.000000     0.525911      0.754049     0.546461\n",
       "sepal_width       0.525911     1.000000      0.560522     0.663999\n",
       "petal_length      0.754049     0.560522      1.000000     0.786668\n",
       "petal_width       0.546461     0.663999      0.786668     1.000000"
      ]
     },
     "execution_count": 194,
     "metadata": {},
     "output_type": "execute_result"
    }
   ],
   "source": [
    "corr3 = df[df['species']=='versicolor'].corr(method=\"pearson\")\n",
    "corr3"
   ]
  },
  {
   "cell_type": "markdown",
   "metadata": {},
   "source": [
    "#### Output to files"
   ]
  },
  {
   "cell_type": "code",
   "execution_count": 195,
   "metadata": {},
   "outputs": [],
   "source": [
    "# An instance of the class output is created to output to summary5.txt\n",
    "fifth_output = output(\"Correlation matrices for setosa, virginica and versicolour respectively.\")\n",
    "\n",
    "# Append to summary5.txt\n",
    "fifth_output.append_open(corr1)\n",
    "fifth_output.append_open(corr2)\n",
    "fifth_output.append_open(corr3)"
   ]
  },
  {
   "cell_type": "markdown",
   "metadata": {},
   "source": [
    "These results indicate that:\n",
    "1. Setosa's attributes are all positively correlated, as are virginica and versicolour\n",
    "2. Setosa sepal width and sepal length are highly correlated (r>0.7) [9](#ref9)\n",
    "3. All other attributes for setosa are weakly correlated (r<0.5)\n",
    "4. Virginica petal length and sepal length are highly correlated.\n",
    "5. Virginica petal width and sepal width are moderately correlated (0.5<r<0.7) \n",
    "6. All other attributes for virginica are weakly correlated.\n",
    "7. Versicolour petal length and sepal length are highly correlated.\n",
    "8. Versiscolour petal width and petal length are highly correlated.\n",
    "9. All other attributes for versicolour are moderately correlated."
   ]
  },
  {
   "cell_type": "markdown",
   "metadata": {},
   "source": [
    "### 4.8 Output data to summary.txt  <a name=\"48\"></a>\n",
    "The summary files are combined into one file called \"summary.txt\" using the following method:"
   ]
  },
  {
   "cell_type": "code",
   "execution_count": 196,
   "metadata": {},
   "outputs": [],
   "source": [
    "# This creates an instance of the output class but it is the fifth\n",
    "# instance so it deletes all previous summaryX.txt files\n",
    "# and combines the data into summary.txt.\n",
    "# An empty string is passed as an argument\n",
    "# to the constructor because it has to take\n",
    "# a string as an argument but will do nothing with it\n",
    "final_output = output(\"\")"
   ]
  },
  {
   "cell_type": "markdown",
   "metadata": {},
   "source": [
    "## 5 Conclusions  <a name=\"conclusions\"></a>\n",
    "The following conclusions can be made from the preceding data analysis:\n",
    "\n",
    "1. What the average or mean values are for each attribute for each species of flower.\n",
    "2. What the median values are for each attribute for each species of flower.\n",
    "3. The difference between the mean and the median values is mostly small or negligble except setosa petal width which has a moderate difference between its mean and median.\n",
    "4. All but two of the attributes for each species is flower is normally distributed (the two datasets that fail the test for normality are versicolor petal widths and setosa petal widths)\n",
    "5. What the difference between the means are for each species of flower.\n",
    "6. The differences between the means are statistically significant and unlikely to be due to sampling error.\n",
    "7. What the correlations are for each pair of attribute for each species of flower.\n",
    "\n",
    "Further study can be done using machine learning. In particular, a classification algorithm such as decision trees can be used to predict the species of flower based on this dataset."
   ]
  },
  {
   "cell_type": "markdown",
   "metadata": {},
   "source": [
    "## 6 Bibliography <a name=\"bibliography\"></a>"
   ]
  },
  {
   "cell_type": "markdown",
   "metadata": {},
   "source": [
    "[1] Bari, A. et al. Predictive Analytics For Dummies.. Wiley, 2016. <a name=\"ref1\"></a>\n",
    "\n",
    "[2] Nelli, F.. Python Data Analytics: Data Analysis and Science using pandas, matplotlib and the Python Programming Language.. Apress, 2015. <a name=\"ref2\"></a>\n",
    "\n",
    "[3] Archive.ics.uci.edu, http://archive.ics.uci.edu/ml/datasets/iris, last accessed 15/04/2020 <a name=\"ref3\"></a>\n",
    "\n",
    "[4] Administration, U.S.F.. Fire Data Analysis Handbook; Second Edition.. Fema, 2004 <a name=\"ref4\"></a>\n",
    "\n",
    "[5] Surhone, L.M. et al. Shapiro-Wilk Test.. VDM Publishing, 2010. <a name=\"ref5\"></a>\n",
    "\n",
    "[6] Urdan, T.C.. Statistics in Plain English.. Lawrence Erlbaum Associates, 2005. <a name=\"ref6\"></a>\n",
    "\n",
    "[7] Pagano, R.R.. Understanding Statistics in the Behavioral Sciences.., 339, Cengage Learning, 2012. <a name=\"ref7\"></a>\n",
    "\n",
    "[8] Boslaugh, S.. Statistics in a Nutshell.. O'Reilly Media, Incorporated, 2012. <a name=\"ref8\"></a>\n",
    "\n",
    "[9] Mukaka, M M. “Statistics corner: A guide to appropriate use of correlation coefficient in medical research.” Malawi medical journal : the journal of Medical Association of Malawi vol. 24,3 (2012): 69-71. <a name=\"ref9\"></a>"
   ]
  }
 ],
 "metadata": {
  "kernelspec": {
   "display_name": "Python 3",
   "language": "python",
   "name": "python3"
  },
  "language_info": {
   "codemirror_mode": {
    "name": "ipython",
    "version": 3
   },
   "file_extension": ".py",
   "mimetype": "text/x-python",
   "name": "python",
   "nbconvert_exporter": "python",
   "pygments_lexer": "ipython3",
   "version": "3.8.5"
  }
 },
 "nbformat": 4,
 "nbformat_minor": 2
}
