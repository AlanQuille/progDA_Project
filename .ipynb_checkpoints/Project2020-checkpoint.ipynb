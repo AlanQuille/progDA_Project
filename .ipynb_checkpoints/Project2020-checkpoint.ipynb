{
 "cells": [
  {
   "cell_type": "markdown",
   "metadata": {},
   "source": [
    "# Programming for Data Analysis Project 2020"
   ]
  },
  {
   "cell_type": "markdown",
   "metadata": {},
   "source": [
    "## Table of contents\n",
    "1. [Introduction](#introduction)\n",
    "\n",
    "2. [Factors](#factors)\n",
    "\n",
    "    2.1 [Income](#income)\n",
    "    \n",
    "    2.2 [Cognitive Ability](#cognitive_ability)\n",
    "    \n",
    "    2.3 [Big Five Personality Traits](#big_five)\n",
    "    \n",
    "    2.4 [Gender](#gender)\n",
    "    \n",
    "3. [Simulation](#simulation)\n",
    "\n",
    "    3.1. [Correlation matrix](#correlation)\n",
    "    \n",
    "    3.2. [Covariance Matrix](#covariance)\n",
    "    \n",
    "    3.3. [Generation of Dataset](#dataset)\n",
    "    \n",
    "    3.4. [Classification of Income](#class)\n",
    "    \n",
    "    3.5. [Details on dataset](#details)\n",
    "    \n",
    "    3.6. [Visualisation](#visualisation)\n",
    "    \n",
    "4. [References](#references)"
   ]
  },
  {
   "cell_type": "markdown",
   "metadata": {},
   "source": [
    "## 1 Introduction <a name=\"introduction\"></a>\n",
    "The purpose of this project is to simulate a dataset which represents income in the United States and the various factors that are associated with same. In this instance, the factors are cognitive ability and personality (Big Five traits Openness, Conscientiousness, Extraversion, Agreeableness and Neuroticism). In addition, the relationship between gender and income will be investigated.\n",
    "\n",
    "The study of the distribution of Income and the factors that correlate with it are of interest because of questions concerning income equality and how much of success is due to so called \"fair\" factors such as personality and cognitive ability and \"unfair\" factors such as parental wealth and social status.\n",
    "\n",
    "Each of the factors and their distribution are described as follows:"
   ]
  },
  {
   "cell_type": "markdown",
   "metadata": {},
   "source": [
    "## 2 Factors <a name=\"factors\"></a>\n",
    "\n",
    "## 2.1 Income <a name=\"income\"></a>\n",
    "The factor that is of primary concern in this simulation is total lifetime income in the United States (called **I** for convenience here). The aim of the project is to simulate a distribution of total lifetime income given the mean and standard deviation of total lifetime income given in the paper \"Who Does Well in Life? Conscientious Adults Excel in Both Objective and Subjective Success\" [1](#ref1). Total lifetime income is defined as the cumulative income earned on average by an individual of age 68 years with range 30-91 years (so on average lifetime income is cumulative income earned over 50 years from 18-68 years of age).\n",
    "\n",
    "Generally, income (including lifetime income) is best described using the lognormal distribution as the mode tends to be less than the median which is less than the mean (reflecting income equality). However, due to the earnings were capped at a taxable maximum in the paper, the data is not sufficiently skewed to justify the transformation and can be modelled as a normal distribution.\n",
    "\n",
    "The mean and standard deviation are 980,000 US dollars and 738,000 US dollars respectively."
   ]
  },
  {
   "cell_type": "code",
   "execution_count": 73,
   "metadata": {},
   "outputs": [],
   "source": [
    "m_i = 980000\n",
    "stdev_i = 738000"
   ]
  },
  {
   "cell_type": "markdown",
   "metadata": {},
   "source": [
    "## 2.2 Cognitive ability <a name=\"cognitive_ability\"></a>\n",
    "Cognitive ability as measured by the paper includes memory, vocabulary and numeracy. It correlates positively with income. These measures (in particular vocabulary) correlate very highly with IQ [2](#ref2). IQ is measured initially on an ordinal scale with percentiles but is approximated on the interval scale as a normal distribution or bell curve across a whole population [3](#ref3). Cognitive ability correlates positively with income.\n",
    "\n",
    "In the paper, the mean and standard deviation are 0 and 1. It is normally distributed like IQ (although IQ usually has mean 100 and standard deviation 15)."
   ]
  },
  {
   "cell_type": "code",
   "execution_count": 74,
   "metadata": {},
   "outputs": [],
   "source": [
    "m_ca = 0\n",
    "stdev_ca = 1"
   ]
  },
  {
   "cell_type": "markdown",
   "metadata": {},
   "source": [
    "## 2.3 Big Five Personality Traits <a name=\"big_five\"></a>\n",
    "The Big Five Personaltiy traits are an attempt by psychologists to encapsulate and quantify several personality traits [4](#ref4). They traits are similar to IQ in that they are measured on the ordinal scale by psychologists but approximated on the interval scale as a normal distribution across a whole population [5](#ref5). The traits are measured on a scale where 4 means an individual scores extremely high in a trait, 1 means they score extremely low in a trait and 2 means the individual scores neither high nor low in a trait.\n",
    "The Big Five traits are Openness, Conscientiousness, Extraversion, Agreeableness and Emotional Stability/Neuroticism (the facets and domains of the Big Five are not considered here). The mean and standard deviations are drawn from the paper.\n",
    "### 2.3.1 Openness <a name=\"openness\"></a>\n",
    "Openness measures the level of interest in art, intellectual pursuits and creativity in an individual. It also measures how unconventional and fantasy-prone they are. It correlates positively with income. The mean is 1.95 and the standard deviation is 0.55. \n",
    "### 2.3.2 Conscientiousness <a name=\"conscientiousness\"></a>\n",
    "Conscientiousness measures how industrious, organised and self-disciplined an individual is. It also measures how cautious and dutiful they are. It correlates positively with income. The mean is 2.56 and the standard deviation is 0.48.\n",
    "### 2.3.3 Extraversion <a name=\"extraversion\"></a>\n",
    "Extraversion measures how talkative, assertive and sensation-seeking an individual is. It also measures thier level of activity and positive emotions. It correlates negatively with income. The mean is 2.2 and 0.55.\n",
    "### 2.3.4 Agreeableness <a name=\"agreeableness\"></a>\n",
    "Extraversion measures how modest, altruistic and honest an individual is. It also measures how compassionate  and trusting they are. It correlates negatively with income. The mean is 2.53 and the standard deviation is 0.47.\n",
    "### 2.3.5 Emotional Stability/Neuroticism <a name=\"emotional stability\"></a>\n",
    "Emotional stability is the reverse of Neuroticism. Neuroticism measures how anxious, fearful and depressed an individual is. It also measures how self-conscious and impulsive they are. It correlates negatively with Income, whereas its reverse Emotional Stability correlates positively with income. The mean (of Emotional Stability) is 2.71 and the standard deviation is 0.61."
   ]
  },
  {
   "cell_type": "code",
   "execution_count": 75,
   "metadata": {},
   "outputs": [],
   "source": [
    "# means of big five traits\n",
    "m_o = 1.95\n",
    "m_c = 2.56\n",
    "m_e = 2.2\n",
    "m_a = 2.53\n",
    "m_es = 2.71\n",
    "# standard deviationns of big five traits\n",
    "stdev_o = 0.55\n",
    "stdev_c = 0.48\n",
    "stdev_e = 0.55\n",
    "stdev_a = 0.47\n",
    "stdev_es = 0.61"
   ]
  },
  {
   "cell_type": "markdown",
   "metadata": {},
   "source": [
    "## 2.4 Gender <a name=\"gender\"></a>\n",
    "Gender, as defined in this project, is whether the individual identified as male or female. Since this project's purpose is to generate a dataset which correlates with total lifetime income for people who are on average 68 years old, the expectation is that men's lifetime income will dwarf women's lifetime income because for much of the 20th century men were the sole breadwinners of households, in the United States and in other industrialised nations [6](#ref6).\n",
    "\n",
    "In this project, it will be represented as a categorical variable which can be either 'M' or 'F'. It will be generated by taking the income brackets, getting the probability of a given individual being in that bracket if they're male and female and generating a 1 or 0 from the binomial distribution which will then be set to 'M' or 'F' respectively and incorporated into the dataset as such."
   ]
  },
  {
   "cell_type": "markdown",
   "metadata": {},
   "source": [
    "## 2.5 Education <a name=\"education\"></a>\n",
    "Education level is defined in this paper as the highest level of education attained by an individual in their lifetime. There are six levels of American education described here:  less than high school (LTHS) high school graduate (HSG) some college (SC) bachelor’s degree only (BA) and graduate degree attainment (GRAD), taken from the paper \"Education and Lifetime Earnings in the United States\" [7](#ref7). Education levels typically correlate positively with income [8](#ref8). \n",
    "\n",
    "In the paper, bar charts of education levels and gross lifetime earnings are presented for men and women. Education level is a categorical variable in the paper but for the sake of simplicity they will be changed to a numerical variable where 1 is the lowest level (LTHS) and 5 is the highest level (GRAD). The correlation between gross lifetime earnings and education is then calculated."
   ]
  },
  {
   "cell_type": "markdown",
   "metadata": {},
   "source": [
    "# 3 Simulation <a name=\"simulation\"></a>\n",
    "## 3.1 Correlation Matrix <a name=\"correlation\"></a>\n",
    "To generate the correlation between Income and Education, data from the second paper referenced is used in conjunction with the module pyspark.mllib.stat to generate the correlation coefficient between lifetime earnings (Income) and highest level of education achieved (Education).\n",
    "\n",
    "For correlations between educational level and the Big Five personality traits, the correlations between GPA (Grade Point Average) and the Big Five taken from \"Personality Predictors of Academic Outcomes: Big Five Correlates of GPA and SAT Scores\"[9](#ref9) are used (this is a simplification as GPA (grade point average) correlates highly with educational level but are not identical).\n",
    "\n",
    "In addition, the correlation between GPA and IQ (and hence cognitive ability) is taken from \"Personality and Intelligence Interact in the Prediction of Academic Achievement\"[10](#ref10)."
   ]
  },
  {
   "cell_type": "code",
   "execution_count": 76,
   "metadata": {},
   "outputs": [
    {
     "name": "stdout",
     "output_type": "stream",
     "text": [
      "The correlation between Income and Education is: 0.78\n",
      "Correlations for Big Five traits C, O, E, A, ES are: 0.26, 0.05, -0.04, 0.09, 0.07\n",
      "Correlations for Big Five traits C, O, E, A, ES are: 0.31\n"
     ]
    }
   ],
   "source": [
    "# education level and lifetime earnings\n",
    "elae = [(1, 1.13), (1,0.51), (2, 1.54), (2, 0.8), (3, 1.76), (3, 1.01), (4, 2.43), (4, 1.43), (5, 3.05), \n",
    "       (5, 1.86)]\n",
    "\n",
    "# generate Pearson's correlation coefficient\n",
    "from scipy.stats.stats import pearsonr \n",
    "\n",
    "listx =[]\n",
    "listy = []\n",
    "\n",
    "[listx.append(i[0]) for i in elae]\n",
    "[listy.append(i[1]) for i in elae]\n",
    "\n",
    "pie = round(pearsonr(listx,listy)[0], 2)\n",
    "\n",
    "print(\"The correlation between Income and Education is: {:.2f}\".format(pie))\n",
    "\n",
    "# the correlations between Big Five and GPA (Education) are:\n",
    "# Conscientiousness\n",
    "pce = 0.26\n",
    "# Openness\n",
    "poe = 0.05\n",
    "# Extraversion\n",
    "pee = -0.04\n",
    "# Agreeableness\n",
    "pae = 0.09\n",
    "# Emotional Stability (reverse of Neuroticism)\n",
    "pne = 0.07\n",
    "\n",
    "print(\"Correlations for Big Five traits C, O, E, A, ES are: {}, {}, {}, {}, {}\".format(pce, poe, pee, pae, pne))\n",
    "\n",
    "# The correlation between Cognitive ability and Education:\n",
    "pcae = 0.31\n",
    "print(\"Correlations for Big Five traits C, O, E, A, ES are: {}\".format(pcae))"
   ]
  },
  {
   "cell_type": "markdown",
   "metadata": {},
   "source": [
    "Since all the factors correlate with income (and most the factors also correlate with each other to some degree), the multivariate normal distribution is used to generate the dataset [7](#ref7). The correlation matrix used in the multivariate normal distribution is entered using the correlations from the first paper, the correlation calculated in the previous cell and the second paper (the pretty_print_matrix function is taken from Stack Overflow [8](#ref8))."
   ]
  },
  {
   "cell_type": "code",
   "execution_count": 77,
   "metadata": {},
   "outputs": [
    {
     "name": "stdout",
     "output_type": "stream",
     "text": [
      "1   \t0.67\t0.61 \t0.63 \t0.23\t0.27\t0.26 \t0.08 \n",
      "0.67\t1   \t0.68 \t0.51 \t0.2 \t0.27\t0.05 \t0.1  \n",
      "0.61\t0.68\t1    \t0.8  \t0.25\t0.01\t-0.04\t-0.04\n",
      "0.63\t0.51\t0.8  \t1    \t0.07\t0.02\t0.09 \t-0.14\n",
      "0.23\t0.2 \t0.25 \t0.07 \t1   \t0.16\t0.07 \t0.16 \n",
      "0.27\t0.27\t0.01 \t0.02 \t0.16\t1   \t0.31 \t0.34 \n",
      "0.26\t0.05\t-0.04\t0.09 \t0.07\t0.31\t1    \t0.78 \n",
      "0.08\t0.1 \t-0.04\t-0.14\t0.16\t0.34\t0.78 \t1    \n"
     ]
    }
   ],
   "source": [
    "# this function prints out a matrix in \n",
    "# a presentable fashion\n",
    "# taken from Stack Overflow\n",
    "def pretty_print_matrix(matrix):\n",
    "    s = [[str(e) for e in row] for row in matrix]\n",
    "    lens = [max(map(len, col)) for col in zip(*s)]\n",
    "    fmt = '\\t'.join('{{:{}}}'.format(x) for x in lens)\n",
    "    table = [fmt.format(*row) for row in s]\n",
    "    print('\\n'.join(table))\n",
    "\n",
    "# rows of correlation matrix\n",
    "\n",
    "# Conscientiousness row\n",
    "p1= [1, 0.67, 0.61, 0.63, 0.23, 0.27, pce, 0.08]\n",
    "# Openness row\n",
    "p2 = [0.67, 1, 0.68, 0.51, 0.2, 0.27, poe, 0.1]\n",
    "# Extraversion row\n",
    "p3 = [0.61, 0.68, 1, 0.8, 0.25, 0.01, pee, -0.04]\n",
    "# Agreeableness row\n",
    "p4 = [0.63, 0.51, 0.8, 1, 0.07, 0.02, pae, -0.14]\n",
    "# Emotional Stability row\n",
    "p5 = [0.23, 0.20, 0.25, 0.07, 1, 0.16, pne, 0.16]\n",
    "# Cognitive ability row\n",
    "p6 = [0.27, 0.27, 0.01, 0.02, 0.16, 1, pcae, 0.34]\n",
    "# Education row\n",
    "p7 = [pce, poe, pee, pae, pne, pcae, 1, pie]\n",
    "# Income row\n",
    "p8 = [0.08, 0.10, -0.04, -0.14, 0.16, 0.34, pie, 1]\n",
    "\n",
    "# correlation matrix\n",
    "corr = [p1, p2, p3, p4, p5, p6, p7, p8]\n",
    "pretty_print_matrix(corr)"
   ]
  },
  {
   "cell_type": "markdown",
   "metadata": {},
   "source": [
    "## 3.2 Covariance matrix <a name=\"covariance\"></a>\n",
    "The correlation matrix is used to generate a covariance matrix [9](#ref9).\n",
    "\n",
    "The covariance matrix is a matrix of numbers which indicate how the variables in the dataset relate to each other. It is calculated using the correlation matrix and an array of standard deviations.\n",
    "\n",
    "The covariance matrix is then used  with the multivariate_normal function taken from numpy to genereate the dataset (called dataset). Afterwards, a pandas dataframe df is created from the dataset.\n",
    "\n",
    "The code to do this is as follows:"
   ]
  },
  {
   "cell_type": "code",
   "execution_count": 78,
   "metadata": {
    "scrolled": false
   },
   "outputs": [],
   "source": [
    "# calculate covariance matrix from correlation matrix\n",
    "from statsmodels.stats.moment_helpers import corr2cov\n",
    "# import numpy for numpy arrays\n",
    "import numpy as np\n",
    "# set precision of numpy\n",
    "np.set_printoptions(precision=3)\n",
    "# import pandas as pd\n",
    "import pandas as pd\n",
    "# set precision to 3\n",
    "pd.set_option(\"display.float_format\", lambda x: '%.3f' % x)\n",
    "\n",
    "# get mean for education level\n",
    "m_ed = np.mean(listx)\n",
    "stdev_ed = np.std(listx)\n",
    "\n",
    "# mean and standard deviation lists\n",
    "mean_list = [m_c, m_o, m_e, m_a, m_es, m_ca, m_ed, m_i]\n",
    "std_list = [stdev_c, stdev_o, stdev_e, stdev_a, stdev_es, stdev_ca, stdev_ed, stdev_i]\n",
    "\n",
    "# using corr2cov to generate covariance matrix\n",
    "cov = corr2cov(corr, std_list)\n",
    "\n",
    "# generate the dataset\n",
    "dataset = np.random.multivariate_normal(np.array(mean_list), np.array(cov), 500)\n",
    "\n",
    "# dataframe df of dataset\n",
    "df = pd.DataFrame(normal_dataset, columns =['Conscientiousness', 'Openness', 'Extraversion', \\\n",
    "                                     'Agreeableness', 'Emotional Stability', \\\n",
    "                                     'Cognitive Ability', 'Education', 'Income']);"
   ]
  },
  {
   "cell_type": "markdown",
   "metadata": {},
   "source": [
    "## 3.4 Classification : Income Ranges <a name=\"classi\"></a>\n",
    "To classify each income range, a very simple classification scheme is used whereby incomes in 98th percentile are categorised as \"H\" for High, incomes above the 84th percentile and below and equalling the 98th percentile are categorised as \"HM\" for High Middle, incomes above the 50th percentile and below and equalling the 84th percentile are categories as \"LM\", incomes above the 16th percentile and below and equalling the 50th percentile are categorised as \"HL\" for High Low, incomes between the 2nd percentile and below and equalling the 16th percentile are categorised as \"LM\" for Low Middle and incomes at or below the 2th percentile are categorised as \"L\" for low. \n",
    "\n",
    "This classification scheme is done as follows:"
   ]
  },
  {
   "cell_type": "code",
   "execution_count": 79,
   "metadata": {},
   "outputs": [],
   "source": [
    "# Different classes of income\n",
    "# A small increment of 0.000000001 is made\n",
    "# to ensure the income brackets conform\n",
    "# to the scheme outlined above\n",
    "df.loc[df['Income'] > m_i + 2*stdev_i, 'Income Class'] = 'H' \n",
    "df.loc[df['Income'].between(m_i + stdev_i +0.000000001, m_i + 2*stdev_i, inclusive=True), 'Income Class'] = 'HM' \n",
    "df.loc[df['Income'].between(m_i +0.000000001, m_i + stdev_i, inclusive=True), 'Income Class'] = 'LM' \n",
    "df.loc[df['Income'].between(m_i - stdev_i +0.000000001 , m_i, inclusive=True), 'Income Class'] = 'HL' \n",
    "df.loc[df['Income'].between(m_i - 2*stdev_i +0.000000001 ,m_i-stdev_i, inclusive=True), 'Income Class'] = 'ML'\n",
    "df.loc[df['Income'] <= m_i - 2*stdev_i, 'Income Class'] = 'L'"
   ]
  },
  {
   "cell_type": "markdown",
   "metadata": {},
   "source": [
    "## 3.4 Classification : Education Level <a name=\"classe\"></a>\n",
    "The education level was converted to a numerical variable in Section 3.1. In this section, it is converted back into the categorical variable as follows:"
   ]
  },
  {
   "cell_type": "code",
   "execution_count": 80,
   "metadata": {},
   "outputs": [],
   "source": [
    "df.loc[df['Education'] >= 5, 'Education Level'] = 'GRAD' \n",
    "df.loc[df['Education'].between(4, 5-0.000001, inclusive=True), 'Education Level'] = 'BA' \n",
    "df.loc[df['Education'].between(3, 4 -0.000001, inclusive=True), 'Education Level'] = 'SC' \n",
    "df.loc[df['Education'].between(2, 3-0.000001, inclusive=True), 'Education Level'] = 'HSG' \n",
    "df.loc[df['Education'] <= 2-0.000001, 'Education Level'] = 'LTHS'"
   ]
  },
  {
   "cell_type": "code",
   "execution_count": 81,
   "metadata": {
    "scrolled": true
   },
   "outputs": [
    {
     "data": {
      "text/html": [
       "<div>\n",
       "<style scoped>\n",
       "    .dataframe tbody tr th:only-of-type {\n",
       "        vertical-align: middle;\n",
       "    }\n",
       "\n",
       "    .dataframe tbody tr th {\n",
       "        vertical-align: top;\n",
       "    }\n",
       "\n",
       "    .dataframe thead th {\n",
       "        text-align: right;\n",
       "    }\n",
       "</style>\n",
       "<table border=\"1\" class=\"dataframe\">\n",
       "  <thead>\n",
       "    <tr style=\"text-align: right;\">\n",
       "      <th></th>\n",
       "      <th>Conscientiousness</th>\n",
       "      <th>Openness</th>\n",
       "      <th>Extraversion</th>\n",
       "      <th>Agreeableness</th>\n",
       "      <th>Emotional Stability</th>\n",
       "      <th>Cognitive Ability</th>\n",
       "      <th>Education</th>\n",
       "      <th>Income</th>\n",
       "      <th>Income Class</th>\n",
       "      <th>Education Level</th>\n",
       "    </tr>\n",
       "  </thead>\n",
       "  <tbody>\n",
       "    <tr>\n",
       "      <th>0</th>\n",
       "      <td>2.380</td>\n",
       "      <td>2.111</td>\n",
       "      <td>2.832</td>\n",
       "      <td>3.118</td>\n",
       "      <td>2.470</td>\n",
       "      <td>-0.319</td>\n",
       "      <td>0.380</td>\n",
       "      <td>-588910.789</td>\n",
       "      <td>L</td>\n",
       "      <td>LTHS</td>\n",
       "    </tr>\n",
       "    <tr>\n",
       "      <th>1</th>\n",
       "      <td>1.619</td>\n",
       "      <td>1.992</td>\n",
       "      <td>1.916</td>\n",
       "      <td>2.264</td>\n",
       "      <td>1.523</td>\n",
       "      <td>-0.445</td>\n",
       "      <td>1.841</td>\n",
       "      <td>632782.256</td>\n",
       "      <td>HL</td>\n",
       "      <td>LTHS</td>\n",
       "    </tr>\n",
       "    <tr>\n",
       "      <th>2</th>\n",
       "      <td>1.837</td>\n",
       "      <td>1.245</td>\n",
       "      <td>2.522</td>\n",
       "      <td>2.404</td>\n",
       "      <td>1.949</td>\n",
       "      <td>-1.677</td>\n",
       "      <td>0.615</td>\n",
       "      <td>98808.256</td>\n",
       "      <td>ML</td>\n",
       "      <td>LTHS</td>\n",
       "    </tr>\n",
       "    <tr>\n",
       "      <th>3</th>\n",
       "      <td>2.557</td>\n",
       "      <td>2.351</td>\n",
       "      <td>2.560</td>\n",
       "      <td>2.600</td>\n",
       "      <td>2.968</td>\n",
       "      <td>-0.646</td>\n",
       "      <td>2.579</td>\n",
       "      <td>914141.048</td>\n",
       "      <td>HL</td>\n",
       "      <td>HSG</td>\n",
       "    </tr>\n",
       "    <tr>\n",
       "      <th>4</th>\n",
       "      <td>3.256</td>\n",
       "      <td>2.851</td>\n",
       "      <td>2.750</td>\n",
       "      <td>3.052</td>\n",
       "      <td>2.451</td>\n",
       "      <td>0.694</td>\n",
       "      <td>3.452</td>\n",
       "      <td>1672818.156</td>\n",
       "      <td>LM</td>\n",
       "      <td>SC</td>\n",
       "    </tr>\n",
       "  </tbody>\n",
       "</table>\n",
       "</div>"
      ],
      "text/plain": [
       "   Conscientiousness  Openness  Extraversion  Agreeableness  \\\n",
       "0              2.380     2.111         2.832          3.118   \n",
       "1              1.619     1.992         1.916          2.264   \n",
       "2              1.837     1.245         2.522          2.404   \n",
       "3              2.557     2.351         2.560          2.600   \n",
       "4              3.256     2.851         2.750          3.052   \n",
       "\n",
       "   Emotional Stability  Cognitive Ability  Education      Income Income Class  \\\n",
       "0                2.470             -0.319      0.380 -588910.789            L   \n",
       "1                1.523             -0.445      1.841  632782.256           HL   \n",
       "2                1.949             -1.677      0.615   98808.256           ML   \n",
       "3                2.968             -0.646      2.579  914141.048           HL   \n",
       "4                2.451              0.694      3.452 1672818.156           LM   \n",
       "\n",
       "  Education Level  \n",
       "0            LTHS  \n",
       "1            LTHS  \n",
       "2            LTHS  \n",
       "3             HSG  \n",
       "4              SC  "
      ]
     },
     "execution_count": 81,
     "metadata": {},
     "output_type": "execute_result"
    }
   ],
   "source": [
    "df.head()"
   ]
  },
  {
   "cell_type": "markdown",
   "metadata": {},
   "source": [
    "The \"Education\" column can now be dropped:"
   ]
  },
  {
   "cell_type": "code",
   "execution_count": 82,
   "metadata": {},
   "outputs": [
    {
     "data": {
      "text/html": [
       "<div>\n",
       "<style scoped>\n",
       "    .dataframe tbody tr th:only-of-type {\n",
       "        vertical-align: middle;\n",
       "    }\n",
       "\n",
       "    .dataframe tbody tr th {\n",
       "        vertical-align: top;\n",
       "    }\n",
       "\n",
       "    .dataframe thead th {\n",
       "        text-align: right;\n",
       "    }\n",
       "</style>\n",
       "<table border=\"1\" class=\"dataframe\">\n",
       "  <thead>\n",
       "    <tr style=\"text-align: right;\">\n",
       "      <th></th>\n",
       "      <th>Conscientiousness</th>\n",
       "      <th>Openness</th>\n",
       "      <th>Extraversion</th>\n",
       "      <th>Agreeableness</th>\n",
       "      <th>Emotional Stability</th>\n",
       "      <th>Cognitive Ability</th>\n",
       "      <th>Income</th>\n",
       "      <th>Income Class</th>\n",
       "      <th>Education Level</th>\n",
       "    </tr>\n",
       "  </thead>\n",
       "  <tbody>\n",
       "    <tr>\n",
       "      <th>0</th>\n",
       "      <td>2.380</td>\n",
       "      <td>2.111</td>\n",
       "      <td>2.832</td>\n",
       "      <td>3.118</td>\n",
       "      <td>2.470</td>\n",
       "      <td>-0.319</td>\n",
       "      <td>-588910.789</td>\n",
       "      <td>L</td>\n",
       "      <td>LTHS</td>\n",
       "    </tr>\n",
       "    <tr>\n",
       "      <th>1</th>\n",
       "      <td>1.619</td>\n",
       "      <td>1.992</td>\n",
       "      <td>1.916</td>\n",
       "      <td>2.264</td>\n",
       "      <td>1.523</td>\n",
       "      <td>-0.445</td>\n",
       "      <td>632782.256</td>\n",
       "      <td>HL</td>\n",
       "      <td>LTHS</td>\n",
       "    </tr>\n",
       "    <tr>\n",
       "      <th>2</th>\n",
       "      <td>1.837</td>\n",
       "      <td>1.245</td>\n",
       "      <td>2.522</td>\n",
       "      <td>2.404</td>\n",
       "      <td>1.949</td>\n",
       "      <td>-1.677</td>\n",
       "      <td>98808.256</td>\n",
       "      <td>ML</td>\n",
       "      <td>LTHS</td>\n",
       "    </tr>\n",
       "    <tr>\n",
       "      <th>3</th>\n",
       "      <td>2.557</td>\n",
       "      <td>2.351</td>\n",
       "      <td>2.560</td>\n",
       "      <td>2.600</td>\n",
       "      <td>2.968</td>\n",
       "      <td>-0.646</td>\n",
       "      <td>914141.048</td>\n",
       "      <td>HL</td>\n",
       "      <td>HSG</td>\n",
       "    </tr>\n",
       "    <tr>\n",
       "      <th>4</th>\n",
       "      <td>3.256</td>\n",
       "      <td>2.851</td>\n",
       "      <td>2.750</td>\n",
       "      <td>3.052</td>\n",
       "      <td>2.451</td>\n",
       "      <td>0.694</td>\n",
       "      <td>1672818.156</td>\n",
       "      <td>LM</td>\n",
       "      <td>SC</td>\n",
       "    </tr>\n",
       "  </tbody>\n",
       "</table>\n",
       "</div>"
      ],
      "text/plain": [
       "   Conscientiousness  Openness  Extraversion  Agreeableness  \\\n",
       "0              2.380     2.111         2.832          3.118   \n",
       "1              1.619     1.992         1.916          2.264   \n",
       "2              1.837     1.245         2.522          2.404   \n",
       "3              2.557     2.351         2.560          2.600   \n",
       "4              3.256     2.851         2.750          3.052   \n",
       "\n",
       "   Emotional Stability  Cognitive Ability      Income Income Class  \\\n",
       "0                2.470             -0.319 -588910.789            L   \n",
       "1                1.523             -0.445  632782.256           HL   \n",
       "2                1.949             -1.677   98808.256           ML   \n",
       "3                2.968             -0.646  914141.048           HL   \n",
       "4                2.451              0.694 1672818.156           LM   \n",
       "\n",
       "  Education Level  \n",
       "0            LTHS  \n",
       "1            LTHS  \n",
       "2            LTHS  \n",
       "3             HSG  \n",
       "4              SC  "
      ]
     },
     "execution_count": 82,
     "metadata": {},
     "output_type": "execute_result"
    }
   ],
   "source": [
    "df = df.drop(['Education'], axis=1)\n",
    "df.head()"
   ]
  },
  {
   "cell_type": "markdown",
   "metadata": {},
   "source": [
    "These income brackets can be used to estimate the probability of a particular row being male or female. This is done in the following section."
   ]
  },
  {
   "cell_type": "markdown",
   "metadata": {},
   "source": [
    "## 3.4 Gender <a name=\"class\"></a>\n",
    "The first paper referenced previously is controlled for gender. However, the mean and standard deviation of lifetime incomes (defined here as cumulative income after 50 years) for men and women are present in the second paper referenced \"Education and Lifetime Earnings in the United States\"[10](#ref10). By calculating the probability of being in a certain income bracket, given that you're a man, one can calculate the the probability of being a man given that you''re in that income bracket.\n",
    "\n",
    "First, the former probabilities are calculated for each bracket:"
   ]
  },
  {
   "cell_type": "code",
   "execution_count": 83,
   "metadata": {
    "scrolled": true
   },
   "outputs": [
    {
     "name": "stdout",
     "output_type": "stream",
     "text": [
      "Probability of being in highest income bracket, given that you're a man: 99.94%\n",
      "Probability of being in the higher middle income bracket, given that you're a man: 97.45%\n",
      "Probability of being in the lower middle income bracket, given that you're a man: 71.36%\n",
      "Probability of being in the higher lower income bracket, given that you're a man: 29.80%\n",
      "Probability of being in the middle lower income bracket, given that you're a man: 14.64%\n",
      "Probability of being in the lower income bracket, given that you're a man: 15.25%\n"
     ]
    }
   ],
   "source": [
    "# the lifetime income of men and women by education bracket (in millions)\n",
    "men =  [3.05, 2.43, 1.76, 1.54, 1.13]\n",
    "women =  [1.86, 1.43, 1.01, 0.8, 0.51]\n",
    "# total\n",
    "total = men + women\n",
    "\n",
    "# distributions fo rmen and women\n",
    "men_dist = np.random.normal(np.mean(men), np.std(men), 1000000)\n",
    "women_dist = np.random.normal(np.mean(women), np.std(women), 1000000)\n",
    "\n",
    "# Higher income bracket\n",
    "prop_men_H = np.sum(men_dist> (np.mean(total) + 2*np.std(total)))\n",
    "prop_women_H = np.sum(women_dist> (np.mean(total) + 2*np.std(total)))\n",
    "\n",
    "# proportion of men in this bracket\n",
    "men_H = (prop_men_H)/(prop_men_H + prop_women_H)\n",
    "print(\"Probability of being in highest income bracket, given that you're a man: {:.2f}%\".format(100*men_H))\n",
    "\n",
    "# Higher middle income bracket\n",
    "a = (np.mean(total) + 2*np.std(total))\n",
    "b =  (np.mean(total) +np.std(total) + 0.00001)\n",
    "prop_men_HM = np.sum(men_dist[(men_dist <= a) & (men_dist >= b)]) \n",
    "prop_women_HM = np.sum(women_dist[(women_dist <= a) & (women_dist >=b)]) \n",
    "                      \n",
    "# proportion of men in this bracket\n",
    "men_HM = (prop_men_HM)/(prop_men_HM + prop_women_HM)\n",
    "print(\"Probability of being in the higher middle income bracket, given that you're a man: {:.2f}%\".format(100*men_HM))\n",
    "\n",
    "# Lower middle income bracket\n",
    "a = (np.mean(total) + np.std(total))\n",
    "b = (np.mean(total) + 0.00001)\n",
    "prop_men_LM = np.sum(men_dist[(men_dist <= a) & (men_dist >= b)]) \n",
    "prop_women_LM = np.sum(women_dist[(women_dist <= (np.mean(total) + np.std(total))) & (women_dist >= (np.mean(total) + 0.00001))]) \n",
    "\n",
    "# proportion of men in this bracket\n",
    "men_LM = (prop_men_LM)/(prop_men_LM + prop_women_LM)\n",
    "print(\"Probability of being in the lower middle income bracket, given that you're a man: {:.2f}%\".format(100*men_LM))\n",
    "\n",
    "# Higher lower income bracket\n",
    "a = (np.mean(total))\n",
    "b = (np.mean(total) -np.std(total) + 0.00001)\n",
    "prop_men_HL = np.sum(men_dist[(men_dist <= a) & (men_dist >= b)])\n",
    "prop_women_HL = np.sum(women_dist[(women_dist <= (np.mean(total))) & (women_dist >= (np.mean(total) -np.std(total) + 0.00001))])\n",
    "\n",
    "# proportion of men in this bracket\n",
    "men_HL = (prop_men_HL)/(prop_men_HL + prop_women_HL)\n",
    "print(\"Probability of being in the higher lower income bracket, given that you're a man: {:.2f}%\".format(100*men_HL))\n",
    "\n",
    "# Middle lower income bracket\n",
    "a = (np.mean(total)-np.std(total))\n",
    "b = (np.mean(total) -2*np.std(total)  + 0.00001)\n",
    "prop_men_ML = np.sum(men_dist[(men_dist <= a) & (men_dist >= b)])\n",
    "prop_women_ML = np.sum(women_dist[(women_dist <= a) & (women_dist >= b)])\n",
    "\n",
    "# proportion of men in this bracket\n",
    "men_ML = (prop_men_ML)/(prop_men_ML + prop_women_ML)\n",
    "print(\"Probability of being in the middle lower income bracket, given that you're a man: {:.2f}%\".format(100*men_ML))\n",
    "\n",
    "# Lower income bracket\n",
    "prop_men_L = np.sum(men_dist < (np.mean(total) - 2*np.std(total)))\n",
    "prop_women_L = np.sum(women_dist < (np.mean(total) - 2*np.std(total)))\n",
    "\n",
    "# proportion of men in this bracket\n",
    "men_L = (prop_men_L)/(prop_men_L + prop_women_L)\n",
    "print(\"Probability of being in the lower income bracket, given that you're a man: {:.2f}%\".format(100*men_L))"
   ]
  },
  {
   "cell_type": "markdown",
   "metadata": {},
   "source": [
    "The probability of being a man given that you're in a certain income bracket is calculated and then this value is used to generate a randomly generated variable using the binomial distrubtion with 1 trial (this is technically the Bernoulli distribution [11](#ref11)). This variable is appended to a list of genders. It is either 1 (Male) or 0 (Female). \n",
    "\n",
    "First, the probabilites are calculated: "
   ]
  },
  {
   "cell_type": "code",
   "execution_count": 84,
   "metadata": {},
   "outputs": [
    {
     "name": "stdout",
     "output_type": "stream",
     "text": [
      "Probability of men being in H brakcet: 0.999378137750072\n",
      "Probability of men being in HM bracket: 0.9744644869764779\n",
      "Probability of men being in LM bracket: 0.7135953491612443\n",
      "Probability of men being in HL bracket: 0.29800373940070385\n",
      "Probability of men being in ML bracket: 0.1464357049109633\n",
      "Probability of men being in L bracket: 0.15252393385552654\n"
     ]
    }
   ],
   "source": [
    "prob_H = men_H\n",
    "print(\"Probability of men being in H brakcet: {}\".format(prob_H))\n",
    "\n",
    "prob_HM = men_HM\n",
    "print(\"Probability of men being in HM bracket: {}\".format(prob_HM))\n",
    "\n",
    "prob_LM = men_LM\n",
    "print(\"Probability of men being in LM bracket: {}\".format(prob_LM))\n",
    "\n",
    "prob_HL = men_HL\n",
    "print(\"Probability of men being in HL bracket: {}\".format(prob_HL))\n",
    "\n",
    "prob_ML = men_ML\n",
    "print(\"Probability of men being in ML bracket: {}\".format(prob_ML))\n",
    "\n",
    "prob_L = men_L\n",
    "print(\"Probability of men being in L bracket: {}\".format(prob_L))"
   ]
  },
  {
   "cell_type": "markdown",
   "metadata": {},
   "source": [
    "The function to generate this list is as follows:"
   ]
  },
  {
   "cell_type": "code",
   "execution_count": 87,
   "metadata": {
    "scrolled": true
   },
   "outputs": [
    {
     "name": "stdout",
     "output_type": "stream",
     "text": [
      "The proportion of men assigned to this sample is: 0.516\n"
     ]
    }
   ],
   "source": [
    "# income class list, list of \n",
    "# income classes for each row\n",
    "# in the dataframe\n",
    "income_class = list(df['Income Class'])\n",
    "def assign_prob():\n",
    "    # list of genders, which will be placed\n",
    "    # in dataframe column marked Gender\n",
    "    column_gender = []\n",
    "    # for each entry in income class\n",
    "    for i in income_class:\n",
    "        # use binomial function to generate a 1 or 0\n",
    "        # with prob_H\n",
    "        if i=='H':\n",
    "            #prob_H = (men_H * 0.5)/(0.02)\n",
    "            MOF = np.random.binomial(1,prob_H,1)[0]\n",
    "            column_gender.append(MOF)\n",
    "        # detto for HM\n",
    "        elif i=='HM':\n",
    "          #  prob_HM = (men_HM * 0.5)/(0.136)\n",
    "            MOF = np.random.binomial(1,prob_HM,1)[0]\n",
    "            column_gender.append(MOF)\n",
    "        # detto for LM\n",
    "        elif i=='LM':\n",
    "         #   prob_LM = (men_LM * 0.5)/(0.34)\n",
    "            MOF = np.random.binomial(1,prob_LM,1)[0]\n",
    "            column_gender.append(MOF)\n",
    "        # detto for HL\n",
    "        elif i=='HL':\n",
    "       #     prob_HL = (men_HL * 0.5)/(0.34)\n",
    "            MOF = np.random.binomial(1,prob_HL,1)[0]\n",
    "            column_gender.append(MOF)\n",
    "        # detto for ML\n",
    "        elif i=='ML':\n",
    "        #    prob_ML = (men_ML * 0.5)/(0.136)\n",
    "            MOF = np.random.binomial(1,prob_ML,1)[0]\n",
    "            column_gender.append(MOF)\n",
    "        # detto for L\n",
    "        elif i=='L':\n",
    "         #   prob_L = (men_L * 0.5)/(0.02)\n",
    "            MOF = np.random.binomial(1,prob_L,1)[0]\n",
    "            column_gender.append(MOF)\n",
    "    \n",
    "    # list of entries, 1 if male 0 if female\n",
    "    return column_gender\n",
    "\n",
    "column_list = assign_prob()\n",
    "\n",
    "print(\"The proportion of men assigned to this sample is: {}\".format(np.sum(column_list)/len(column_list)))"
   ]
  },
  {
   "cell_type": "markdown",
   "metadata": {},
   "source": [
    "The proportion of men (i.e. the number of 1's) generated by this method is 0.516 or 51.6%, which is approximately what one would expect in the general population (50% men, 50% women).\n",
    "\n",
    "This function is assigned to a column called 'Gender' in the dataframe df:"
   ]
  },
  {
   "cell_type": "code",
   "execution_count": 88,
   "metadata": {},
   "outputs": [],
   "source": [
    "df['Gender'] = column_list"
   ]
  },
  {
   "cell_type": "markdown",
   "metadata": {},
   "source": [
    "The dataframe column Gender is made into a categorical variable with values either being M or F based on male being 1 and female being 0, as follows:"
   ]
  },
  {
   "cell_type": "code",
   "execution_count": 89,
   "metadata": {},
   "outputs": [],
   "source": [
    "df.loc[df['Gender'] == 1, 'Gender'] = 'M' \n",
    "df.loc[df['Gender'] == 0, 'Gender'] = 'F' "
   ]
  },
  {
   "cell_type": "markdown",
   "metadata": {},
   "source": [
    "## 3.5 Details on dataset <a name=\"details\"></a>"
   ]
  },
  {
   "cell_type": "markdown",
   "metadata": {},
   "source": [
    "The means of the columns of df and standard deviations of the columns of df are given as follows:"
   ]
  },
  {
   "cell_type": "code",
   "execution_count": 90,
   "metadata": {
    "scrolled": false
   },
   "outputs": [
    {
     "name": "stdout",
     "output_type": "stream",
     "text": [
      "The means are:\n",
      "Conscientiousness          2.545\n",
      "Openness                   1.927\n",
      "Extraversion               2.190\n",
      "Agreeableness              2.514\n",
      "Emotional Stability        2.746\n",
      "Cognitive Ability          0.068\n",
      "Income                985543.891\n",
      "dtype: float64\n",
      "\n",
      "The standard deviations are:\n",
      "Conscientiousness          0.477\n",
      "Openness                   0.549\n",
      "Extraversion               0.511\n",
      "Agreeableness              0.455\n",
      "Emotional Stability        0.605\n",
      "Cognitive Ability          1.008\n",
      "Income                747231.132\n",
      "dtype: float64\n"
     ]
    }
   ],
   "source": [
    "print(\"The means are:\\n{}\".format(df.mean()))\n",
    "print(\"\\nThe standard deviations are:\\n{}\".format(df.std()))"
   ]
  },
  {
   "cell_type": "markdown",
   "metadata": {},
   "source": [
    "The first 5 elements are given as follows:"
   ]
  },
  {
   "cell_type": "code",
   "execution_count": 91,
   "metadata": {
    "scrolled": true
   },
   "outputs": [
    {
     "data": {
      "text/html": [
       "<div>\n",
       "<style scoped>\n",
       "    .dataframe tbody tr th:only-of-type {\n",
       "        vertical-align: middle;\n",
       "    }\n",
       "\n",
       "    .dataframe tbody tr th {\n",
       "        vertical-align: top;\n",
       "    }\n",
       "\n",
       "    .dataframe thead th {\n",
       "        text-align: right;\n",
       "    }\n",
       "</style>\n",
       "<table border=\"1\" class=\"dataframe\">\n",
       "  <thead>\n",
       "    <tr style=\"text-align: right;\">\n",
       "      <th></th>\n",
       "      <th>Conscientiousness</th>\n",
       "      <th>Openness</th>\n",
       "      <th>Extraversion</th>\n",
       "      <th>Agreeableness</th>\n",
       "      <th>Emotional Stability</th>\n",
       "      <th>Cognitive Ability</th>\n",
       "      <th>Income</th>\n",
       "      <th>Income Class</th>\n",
       "      <th>Education Level</th>\n",
       "      <th>Gender</th>\n",
       "    </tr>\n",
       "  </thead>\n",
       "  <tbody>\n",
       "    <tr>\n",
       "      <th>0</th>\n",
       "      <td>2.380</td>\n",
       "      <td>2.111</td>\n",
       "      <td>2.832</td>\n",
       "      <td>3.118</td>\n",
       "      <td>2.470</td>\n",
       "      <td>-0.319</td>\n",
       "      <td>-588910.789</td>\n",
       "      <td>L</td>\n",
       "      <td>LTHS</td>\n",
       "      <td>F</td>\n",
       "    </tr>\n",
       "    <tr>\n",
       "      <th>1</th>\n",
       "      <td>1.619</td>\n",
       "      <td>1.992</td>\n",
       "      <td>1.916</td>\n",
       "      <td>2.264</td>\n",
       "      <td>1.523</td>\n",
       "      <td>-0.445</td>\n",
       "      <td>632782.256</td>\n",
       "      <td>HL</td>\n",
       "      <td>LTHS</td>\n",
       "      <td>M</td>\n",
       "    </tr>\n",
       "    <tr>\n",
       "      <th>2</th>\n",
       "      <td>1.837</td>\n",
       "      <td>1.245</td>\n",
       "      <td>2.522</td>\n",
       "      <td>2.404</td>\n",
       "      <td>1.949</td>\n",
       "      <td>-1.677</td>\n",
       "      <td>98808.256</td>\n",
       "      <td>ML</td>\n",
       "      <td>LTHS</td>\n",
       "      <td>F</td>\n",
       "    </tr>\n",
       "    <tr>\n",
       "      <th>3</th>\n",
       "      <td>2.557</td>\n",
       "      <td>2.351</td>\n",
       "      <td>2.560</td>\n",
       "      <td>2.600</td>\n",
       "      <td>2.968</td>\n",
       "      <td>-0.646</td>\n",
       "      <td>914141.048</td>\n",
       "      <td>HL</td>\n",
       "      <td>HSG</td>\n",
       "      <td>F</td>\n",
       "    </tr>\n",
       "    <tr>\n",
       "      <th>4</th>\n",
       "      <td>3.256</td>\n",
       "      <td>2.851</td>\n",
       "      <td>2.750</td>\n",
       "      <td>3.052</td>\n",
       "      <td>2.451</td>\n",
       "      <td>0.694</td>\n",
       "      <td>1672818.156</td>\n",
       "      <td>LM</td>\n",
       "      <td>SC</td>\n",
       "      <td>F</td>\n",
       "    </tr>\n",
       "  </tbody>\n",
       "</table>\n",
       "</div>"
      ],
      "text/plain": [
       "   Conscientiousness  Openness  Extraversion  Agreeableness  \\\n",
       "0              2.380     2.111         2.832          3.118   \n",
       "1              1.619     1.992         1.916          2.264   \n",
       "2              1.837     1.245         2.522          2.404   \n",
       "3              2.557     2.351         2.560          2.600   \n",
       "4              3.256     2.851         2.750          3.052   \n",
       "\n",
       "   Emotional Stability  Cognitive Ability      Income Income Class  \\\n",
       "0                2.470             -0.319 -588910.789            L   \n",
       "1                1.523             -0.445  632782.256           HL   \n",
       "2                1.949             -1.677   98808.256           ML   \n",
       "3                2.968             -0.646  914141.048           HL   \n",
       "4                2.451              0.694 1672818.156           LM   \n",
       "\n",
       "  Education Level Gender  \n",
       "0            LTHS      F  \n",
       "1            LTHS      M  \n",
       "2            LTHS      F  \n",
       "3             HSG      F  \n",
       "4              SC      F  "
      ]
     },
     "execution_count": 91,
     "metadata": {},
     "output_type": "execute_result"
    }
   ],
   "source": [
    "df.head()"
   ]
  },
  {
   "cell_type": "markdown",
   "metadata": {},
   "source": [
    "The correlation matrix for this dataset is:"
   ]
  },
  {
   "cell_type": "code",
   "execution_count": 92,
   "metadata": {},
   "outputs": [
    {
     "data": {
      "text/html": [
       "<div>\n",
       "<style scoped>\n",
       "    .dataframe tbody tr th:only-of-type {\n",
       "        vertical-align: middle;\n",
       "    }\n",
       "\n",
       "    .dataframe tbody tr th {\n",
       "        vertical-align: top;\n",
       "    }\n",
       "\n",
       "    .dataframe thead th {\n",
       "        text-align: right;\n",
       "    }\n",
       "</style>\n",
       "<table border=\"1\" class=\"dataframe\">\n",
       "  <thead>\n",
       "    <tr style=\"text-align: right;\">\n",
       "      <th></th>\n",
       "      <th>Conscientiousness</th>\n",
       "      <th>Openness</th>\n",
       "      <th>Extraversion</th>\n",
       "      <th>Agreeableness</th>\n",
       "      <th>Emotional Stability</th>\n",
       "      <th>Cognitive Ability</th>\n",
       "      <th>Income</th>\n",
       "    </tr>\n",
       "  </thead>\n",
       "  <tbody>\n",
       "    <tr>\n",
       "      <th>Conscientiousness</th>\n",
       "      <td>1.000</td>\n",
       "      <td>0.679</td>\n",
       "      <td>0.569</td>\n",
       "      <td>0.616</td>\n",
       "      <td>0.204</td>\n",
       "      <td>0.321</td>\n",
       "      <td>0.089</td>\n",
       "    </tr>\n",
       "    <tr>\n",
       "      <th>Openness</th>\n",
       "      <td>0.679</td>\n",
       "      <td>1.000</td>\n",
       "      <td>0.642</td>\n",
       "      <td>0.469</td>\n",
       "      <td>0.115</td>\n",
       "      <td>0.304</td>\n",
       "      <td>0.088</td>\n",
       "    </tr>\n",
       "    <tr>\n",
       "      <th>Extraversion</th>\n",
       "      <td>0.569</td>\n",
       "      <td>0.642</td>\n",
       "      <td>1.000</td>\n",
       "      <td>0.778</td>\n",
       "      <td>0.148</td>\n",
       "      <td>0.012</td>\n",
       "      <td>-0.086</td>\n",
       "    </tr>\n",
       "    <tr>\n",
       "      <th>Agreeableness</th>\n",
       "      <td>0.616</td>\n",
       "      <td>0.469</td>\n",
       "      <td>0.778</td>\n",
       "      <td>1.000</td>\n",
       "      <td>-0.046</td>\n",
       "      <td>0.011</td>\n",
       "      <td>-0.201</td>\n",
       "    </tr>\n",
       "    <tr>\n",
       "      <th>Emotional Stability</th>\n",
       "      <td>0.204</td>\n",
       "      <td>0.115</td>\n",
       "      <td>0.148</td>\n",
       "      <td>-0.046</td>\n",
       "      <td>1.000</td>\n",
       "      <td>0.182</td>\n",
       "      <td>0.256</td>\n",
       "    </tr>\n",
       "    <tr>\n",
       "      <th>Cognitive Ability</th>\n",
       "      <td>0.321</td>\n",
       "      <td>0.304</td>\n",
       "      <td>0.012</td>\n",
       "      <td>0.011</td>\n",
       "      <td>0.182</td>\n",
       "      <td>1.000</td>\n",
       "      <td>0.313</td>\n",
       "    </tr>\n",
       "    <tr>\n",
       "      <th>Income</th>\n",
       "      <td>0.089</td>\n",
       "      <td>0.088</td>\n",
       "      <td>-0.086</td>\n",
       "      <td>-0.201</td>\n",
       "      <td>0.256</td>\n",
       "      <td>0.313</td>\n",
       "      <td>1.000</td>\n",
       "    </tr>\n",
       "  </tbody>\n",
       "</table>\n",
       "</div>"
      ],
      "text/plain": [
       "                     Conscientiousness  Openness  Extraversion  Agreeableness  \\\n",
       "Conscientiousness                1.000     0.679         0.569          0.616   \n",
       "Openness                         0.679     1.000         0.642          0.469   \n",
       "Extraversion                     0.569     0.642         1.000          0.778   \n",
       "Agreeableness                    0.616     0.469         0.778          1.000   \n",
       "Emotional Stability              0.204     0.115         0.148         -0.046   \n",
       "Cognitive Ability                0.321     0.304         0.012          0.011   \n",
       "Income                           0.089     0.088        -0.086         -0.201   \n",
       "\n",
       "                     Emotional Stability  Cognitive Ability  Income  \n",
       "Conscientiousness                  0.204              0.321   0.089  \n",
       "Openness                           0.115              0.304   0.088  \n",
       "Extraversion                       0.148              0.012  -0.086  \n",
       "Agreeableness                     -0.046              0.011  -0.201  \n",
       "Emotional Stability                1.000              0.182   0.256  \n",
       "Cognitive Ability                  0.182              1.000   0.313  \n",
       "Income                             0.256              0.313   1.000  "
      ]
     },
     "execution_count": 92,
     "metadata": {},
     "output_type": "execute_result"
    }
   ],
   "source": [
    "df.corr()"
   ]
  },
  {
   "cell_type": "markdown",
   "metadata": {},
   "source": [
    "## 3.6 Visualisation <a name=\"visualisation\"></a>"
   ]
  },
  {
   "cell_type": "markdown",
   "metadata": {},
   "source": [
    "A pairplot of the dataset is given as follows (marked by Income Class)"
   ]
  },
  {
   "cell_type": "code",
   "execution_count": null,
   "metadata": {
    "scrolled": true
   },
   "outputs": [],
   "source": [
    "# seaborn for pairplot\n",
    "import seaborn as sns\n",
    "# sns.set() to make it look nice\n",
    "sns.set()\n",
    "sns.pairplot(df, hue='Income Class', markers=['o', '.', 'X', '^', '<', '>']);"
   ]
  },
  {
   "cell_type": "markdown",
   "metadata": {},
   "source": [
    "A plot divided using gender is given as follows:"
   ]
  },
  {
   "cell_type": "code",
   "execution_count": null,
   "metadata": {
    "scrolled": true
   },
   "outputs": [],
   "source": [
    "sns.pairplot(df, hue='Gender', markers=['<', '>']);"
   ]
  },
  {
   "cell_type": "code",
   "execution_count": null,
   "metadata": {},
   "outputs": [],
   "source": [
    "sns.pairplot(df, hue='Education Level', markers=['o', '.', 'X', '<', '>']);"
   ]
  },
  {
   "cell_type": "markdown",
   "metadata": {},
   "source": [
    "## 4 References<a name=\"references\"></a>"
   ]
  },
  {
   "cell_type": "markdown",
   "metadata": {},
   "source": [
    "[1] Duckworth, A., Weir, D., Tsukayama, E. and Kwok, D., 2012. Who Does Well in Life? Conscientious Adults Excel in Both Objective and Subjective Success. Frontiers in Psychology, 3. <a name=\"ref1\"></a> <br>\n",
    "[2]  Doi.apa.org. 2020. APA Psycnet. [online] Available at: <https://doi.apa.org /doiLanding?doi=10.1037%2F0003-066X.51.2.77> [Accessed 26 November 2020]. <a name=\"ref2\"></a> <br>\n",
    "[3] Psychology.emory.edu. 2020. Interval. [online] Available at: <http://www.psychology.emory.edu/clinical/bliwise/Tutorials/SOM/smmod/scalemea/print2.htm> [Accessed 26 November 2020]. <a name=\"ref3\"></a> <br>\n",
    "[4] Psychology Today. 2020. Big 5 Personality Traits. [online] Available at: <https://www.psychologytoday.com/ie/basics/big-5-personality-traits> [Accessed 26 November 2020]. <a name=\"ref4\"></a> <br>\n",
    "[5] Reflectd. 2020. A Look Into Personality And The Big Five Personality Traits. [online] Available at: <https://reflectd.co/2013/03/22/what-is-personality-does-it-change/> [Accessed 26 November 2020]. <a name=\"ref5\"></a> <br>\n",
    "[6] Ortiz-Ospina, E., Tzvetkova, S. and Roser, M., 2020. Women’S Employment. [online] Our World in Data. Available at: <https://ourworldindata.org/female-labor-supply> [Accessed 11 December 2020]. <a name=\"ref6\"></a> <br>\n",
    "[7] Tamborini, C., Kim, C. and Sakamoto, A., 2015. Education and Lifetime Earnings in the United States. Demography, 52(4), pp.1383-1407. <a name=\"ref10\"></a> <br>\n",
    "[8] Numpy.org. 2020. Numpy.Random.Multivariate_Normal — Numpy V1.19 Manual. [online] Available at: <https://numpy.org/doc/stable/reference/random/generated/numpy.random.multivariate_normal.html> [Accessed 26 November 2020]. <a name=\"ref7\"></a> <br>\n",
    "[9] list, P., Nanda, S. and L&#243;pez, R., 2020. Pretty Print 2D Python List. [online] Stack Overflow. Available at: <https://stackoverflow.com/questions/13214809/pretty-print-2d-python-list> [Accessed 26 November 2020]. <a name=\"ref8\"></a> <br>\n",
    "[10] Statistics How To. 2020. Z-Score: Definition, Formula And Calculation - Statistics How To. [online] Available at: <https://www.statisticshowto.com/probability-and-statistics/z-score/> [Accessed 2 December 2020].<a name=\"ref9\"></a> <br>\n",
    "[11] Unf.edu. 2020. [online] Available at: <https://www.unf.edu/~cwinton/html/cop4300/s09/class.notes/DiscreteDist.pdf> [Accessed 11 December 2020]. <a name=\"ref11\"></a> "
   ]
  }
 ],
 "metadata": {
  "kernelspec": {
   "display_name": "Python 3",
   "language": "python",
   "name": "python3"
  },
  "language_info": {
   "codemirror_mode": {
    "name": "ipython",
    "version": 3
   },
   "file_extension": ".py",
   "mimetype": "text/x-python",
   "name": "python",
   "nbconvert_exporter": "python",
   "pygments_lexer": "ipython3",
   "version": "3.8.5"
  }
 },
 "nbformat": 4,
 "nbformat_minor": 2
}
